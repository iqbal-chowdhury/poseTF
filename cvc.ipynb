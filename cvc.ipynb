{
 "cells": [
  {
   "cell_type": "code",
   "execution_count": 1,
   "metadata": {
    "collapsed": false
   },
   "outputs": [
    {
     "name": "stdout",
     "output_type": "stream",
     "text": [
      "2\n"
     ]
    }
   ],
   "source": [
    "# constant for different versions of opencv\n",
    "import cv2\n",
    "class cvc(object):\n",
    "    (major,minor,_) = cv2.__version__.split('.')\n",
    "    if major == '2':\n",
    "        FRAME_COUNT = cv2.cv.CV_CAP_PROP_FRAME_COUNT\n",
    "        FRAME_WIDTH = cv2.cv.CV_CAP_PROP_FRAME_WIDTH\n",
    "        FRAME_HEIGHT = cv2.cv.CV_CAP_PROP_FRAME_HEIGHT\n",
    "        FRAME_POSITION = cv2.cv.CV_CAP_PROP_POS_FRAMES\n",
    "    else:\n",
    "        FRAME_COUNT = cv2.CAP_PROP_FRAME_COUNT\n",
    "        FRAME_WIDTH = cv2.CAP_PROP_FRAME_WIDTH\n",
    "        FRAME_HEIGHT = cv2.CAP_PROP_FRAME_HEIGHT\n",
    "        FRAME_POSITION = cv2.CAP_PROP_POS_FRAMES\n",
    "  \n",
    "    "
   ]
  }
 ],
 "metadata": {
  "kernelspec": {
   "display_name": "Python 2",
   "language": "python",
   "name": "python2"
  },
  "language_info": {
   "codemirror_mode": {
    "name": "ipython",
    "version": 2
   },
   "file_extension": ".py",
   "mimetype": "text/x-python",
   "name": "python",
   "nbconvert_exporter": "python",
   "pygments_lexer": "ipython2",
   "version": "2.7.6"
  }
 },
 "nbformat": 4,
 "nbformat_minor": 0
}
