{
 "cells": [
  {
   "cell_type": "code",
   "execution_count": 1,
   "metadata": {
    "collapsed": false
   },
   "outputs": [
    {
     "name": "stdout",
     "output_type": "stream",
     "text": [
      "(5.9109703295012999, 7.8893695679054305)\n",
      "6.44175703521\n"
     ]
    }
   ],
   "source": [
    "import tensorflow as tf\n",
    "from numpy import linalg as LA\n",
    "\n",
    "nclus = 2\n",
    "indim = [50]\n",
    "niter = 500\n",
    "nsample = 500\n",
    "lr = 0.01\n",
    "scale = 0.2\n",
    "c1 = np.random.randn(indim[0])\n",
    "c2 = np.random.randn(indim[0])\n",
    "print(LA.norm(c1.flatten()),LA.norm(c2.flatten()))\n",
    "print(np.dot(c1.flatten(),c2.flatten()))\n",
    "sess = tf.InteractiveSession()"
   ]
  },
  {
   "cell_type": "code",
   "execution_count": 4,
   "metadata": {
    "collapsed": false
   },
   "outputs": [
    {
     "name": "stdout",
     "output_type": "stream",
     "text": [
      "(0, 15619.534)\n",
      "(50, 463.28381)\n",
      "(100, 451.17365)\n",
      "(150, 447.19675)\n",
      "(200, 439.81052)\n",
      "(250, 441.10916)\n",
      "(300, 436.94141)\n",
      "(350, 427.59442)\n",
      "(400, 456.70703)\n",
      "(450, 426.65256)\n"
     ]
    }
   ],
   "source": [
    "def snet(X,indim,nhidden=2):\n",
    "    kk = np.random.randn(indim[0],2)\n",
    "    kk = kk.astype('single')\n",
    "    weights = tf.Variable(kk)\n",
    "    biases = tf.Variable(tf.zeros([2]))\n",
    "    mmult = tf.matmul(X,weights)\n",
    "    return tf.nn.relu(mmult+biases)\n",
    "\n",
    "def genSamples(c1,indim,scale,num):\n",
    "    nn = np.random.randn(num,indim[0])\n",
    "    nn = nn*scale + c1\n",
    "    return nn\n",
    "\n",
    "Xph = tf.placeholder(tf.float32, [None, indim[0]])\n",
    "label_ph = tf.placeholder(tf.float32,[None,2])\n",
    "Xout = snet(Xph,indim,nclus)\n",
    "loss = tf.nn.l2_loss(Xout-label_ph)\n",
    "\n",
    "opt = tf.train.AdamOptimizer(learning_rate= lr).minimize(loss)\n",
    "\n",
    "init = tf.initialize_all_variables()\n",
    "sess.run(init)\n",
    "for ndx in range(niter):\n",
    "    s1 = genSamples(c1,indim,scale,nsample)\n",
    "    s2 = genSamples(c2,indim,scale,nsample)\n",
    "    s = np.concatenate([s1,s2],0)\n",
    "    l1 = np.hstack([np.ones([1,nsample]),np.zeros([1,nsample])])\n",
    "    l2 = np.hstack([np.zeros([1,nsample]),np.ones([1,nsample])])\n",
    "    l = np.vstack([l1,l2])\n",
    "    l = np.transpose(l)\n",
    "    feed_dict={Xph:s, label_ph:l}\n",
    "    sess.run(opt,feed_dict=feed_dict)\n",
    "    s1 = genSamples(c1,indim,0.2,nsample)\n",
    "    s2 = genSamples(c2,indim,0.2,nsample)\n",
    "    s = np.concatenate([s1,s2],0)\n",
    "    feed_dict={Xph:s, label_ph:l}\n",
    "    curloss = sess.run(loss,feed_dict=feed_dict)\n",
    "    if ndx%50 == 0:\n",
    "        print(ndx,curloss)\n",
    "    \n",
    "    "
   ]
  },
  {
   "cell_type": "code",
   "execution_count": 1,
   "metadata": {
    "collapsed": false
   },
   "outputs": [
    {
     "name": "stdout",
     "output_type": "stream",
     "text": [
      "(7.1487323069717492, 6.5726044888032265)\n",
      "-5.07582030602\n",
      "-6.41433437277\n",
      "-5.14322543319\n",
      "(0, 201.08298)\n",
      "(50, 85.219482)\n",
      "(100, 64.930321)\n",
      "(150, 50.608345)\n",
      "(200, 46.258476)\n",
      "(250, 42.141399)\n",
      "(300, 40.148491)\n",
      "(350, 42.107956)\n",
      "(400, 40.878166)\n",
      "(450, 40.540188)\n"
     ]
    }
   ],
   "source": [
    "import tensorflow as tf\n",
    "from numpy import linalg as LA\n",
    "\n",
    "nclus = 2\n",
    "indim = [50]\n",
    "niter = 500\n",
    "nsample = 500\n",
    "lr = 0.01\n",
    "scale = 0.2\n",
    "c1 = np.random.randn(indim[0])\n",
    "c2 = np.random.randn(indim[0])\n",
    "rdir = np.random.randn(indim[0])\n",
    "tres = np.dot(rdir,c2-c1)\n",
    "print(LA.norm(c1.flatten()),LA.norm(c2.flatten()))\n",
    "print(np.dot(c1.flatten(),c2.flatten()))\n",
    "print(np.dot(rdir.flatten(),c2.flatten()))\n",
    "print(np.dot(rdir.flatten(),c1.flatten()))\n",
    "\n",
    "\n",
    "def snet(X,indim,nhidden=2):\n",
    "    weights = tf.Variable(tf.random_normal(indim+[2],stddev=0.2)),\n",
    "    biases = tf.Variable(tf.zeros([2]))\n",
    "    mmult = tf.matmul(X,weights)\n",
    "    return tf.nn.relu(mmult+biases)\n",
    "\n",
    "\n",
    "def genSamples(c1,indim,scale,num):\n",
    "    nn = np.random.randn(num,indim[0])\n",
    "    nn = nn*scale + c1\n",
    "    return nn\n",
    "\n",
    "Xph = tf.placeholder(tf.float32, [None, indim[0]])\n",
    "label_ph = tf.placeholder(tf.float32,[None,2])\n",
    "Xout = snet(Xph,indim,nclus)\n",
    "loss = tf.nn.l2_loss(Xout-label_ph)\n",
    "\n",
    "opt = tf.train.AdamOptimizer(learning_rate= lr).minimize(loss)\n",
    "\n",
    "sess = tf.InteractiveSession()\n",
    "init = tf.initialize_all_variables()\n",
    "sess.run(init)\n",
    "for ndx in range(niter):\n",
    "    s = genSamples(np.zeros(indim[0]),indim,scale,nsample)\n",
    "#     s2 = genSamples(c2,indim,scale,nsample)\n",
    "#     s = np.concatenate([s1,s2],0)\n",
    "#     l1 = np.hstack([np.ones([1,nsample]),np.zeros([1,nsample])])\n",
    "#     l2 = np.hstack([np.zeros([1,nsample]),np.ones([1,nsample])])\n",
    "#     l = np.vstack([l1,l2])\n",
    "#     l = np.transpose(l)\n",
    "    l = 1.0*(s[:,0:1]>0)\n",
    "    l = np.concatenate([l,l],1)\n",
    "    feed_dict={Xph:s, label_ph:l}\n",
    "    sess.run(opt,feed_dict=feed_dict)\n",
    "    s = genSamples(np.zeros(indim[0]),indim,scale,nsample)\n",
    "    l = 1.0*(s[:,0:1]>0)\n",
    "    l = np.concatenate([l,l],1)\n",
    "    feed_dict={Xph:s, label_ph:l}\n",
    "    curloss = sess.run(loss,feed_dict=feed_dict)\n",
    "    if ndx%50 == 0:\n",
    "        print(ndx,curloss)\n",
    "    \n",
    "    "
   ]
  },
  {
   "cell_type": "code",
   "execution_count": 4,
   "metadata": {
    "collapsed": false
   },
   "outputs": [
    {
     "name": "stdout",
     "output_type": "stream",
     "text": [
      "[ 0.  0.  0.  0.  0.  0.]\n",
      "(1000, 1)\n"
     ]
    }
   ],
   "source": [
    "aa = np.zeros(3)\n",
    "bb = np.hstack([aa,aa])\n",
    "print(bb)\n",
    "\n",
    "gg = np.dot(s,rdir[:,np.newaxis])\n",
    "print(gg.shape)"
   ]
  }
 ],
 "metadata": {
  "kernelspec": {
   "display_name": "Python 2",
   "language": "python",
   "name": "python2"
  },
  "language_info": {
   "codemirror_mode": {
    "name": "ipython",
    "version": 2
   },
   "file_extension": ".py",
   "mimetype": "text/x-python",
   "name": "python",
   "nbconvert_exporter": "python",
   "pygments_lexer": "ipython2",
   "version": "2.7.6"
  }
 },
 "nbformat": 4,
 "nbformat_minor": 0
}
