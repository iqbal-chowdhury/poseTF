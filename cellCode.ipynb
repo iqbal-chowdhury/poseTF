{
 "cells": [
  {
   "cell_type": "code",
   "execution_count": 5,
   "metadata": {
    "collapsed": false,
    "scrolled": true
   },
   "outputs": [
    {
     "name": "stderr",
     "output_type": "stream",
     "text": [
      "/home/mayank/work/caffe/python/caffe/pycaffe.py:13: RuntimeWarning: to-Python converter for boost::shared_ptr<caffe::Net<float> > already registered; second conversion method ignored.\n",
      "  from ._caffe import Net, SGDSolver, NesterovSolver, AdaGradSolver, \\\n",
      "/home/mayank/work/caffe/python/caffe/pycaffe.py:13: RuntimeWarning: to-Python converter for boost::shared_ptr<caffe::Blob<float> > already registered; second conversion method ignored.\n",
      "  from ._caffe import Net, SGDSolver, NesterovSolver, AdaGradSolver, \\\n",
      "/home/mayank/work/caffe/python/caffe/pycaffe.py:13: RuntimeWarning: to-Python converter for boost::shared_ptr<caffe::Solver<float> > already registered; second conversion method ignored.\n",
      "  from ._caffe import Net, SGDSolver, NesterovSolver, AdaGradSolver, \\\n"
     ]
    },
    {
     "ename": "IOError",
     "evalue": "[Errno 2] No such file or directory: '/home/mayank/Dropbox/AdamVideos/M118_M119_M122_M127_M130_M173_M174_M147_20150615.mat'",
     "output_type": "error",
     "traceback": [
      "\u001b[0;31m---------------------------------------------------------------------------\u001b[0m",
      "\u001b[0;31mIOError\u001b[0m                                   Traceback (most recent call last)",
      "\u001b[0;32m<ipython-input-5-31b4498671cf>\u001b[0m in \u001b[0;36m<module>\u001b[0;34m()\u001b[0m\n\u001b[1;32m      3\u001b[0m \u001b[0;32mimport\u001b[0m \u001b[0mmyutils\u001b[0m\u001b[0;34m\u001b[0m\u001b[0m\n\u001b[1;32m      4\u001b[0m \u001b[0mreload\u001b[0m\u001b[0;34m(\u001b[0m\u001b[0mmyutils\u001b[0m\u001b[0;34m)\u001b[0m\u001b[0;34m\u001b[0m\u001b[0m\n\u001b[0;32m----> 5\u001b[0;31m \u001b[0mpawData\u001b[0m\u001b[0;34m.\u001b[0m\u001b[0mcreateDB\u001b[0m\u001b[0;34m(\u001b[0m\u001b[0;34m)\u001b[0m\u001b[0;34m\u001b[0m\u001b[0m\n\u001b[0m",
      "\u001b[0;32m/home/mayank/work/poseEstimation/pawData.pyc\u001b[0m in \u001b[0;36mcreateDB\u001b[0;34m()\u001b[0m\n\u001b[1;32m    131\u001b[0m \u001b[0;32mdef\u001b[0m \u001b[0mcreateDB\u001b[0m\u001b[0;34m(\u001b[0m\u001b[0;34m)\u001b[0m\u001b[0;34m:\u001b[0m\u001b[0;34m\u001b[0m\u001b[0m\n\u001b[1;32m    132\u001b[0m \u001b[0;34m\u001b[0m\u001b[0m\n\u001b[0;32m--> 133\u001b[0;31m     \u001b[0mL\u001b[0m \u001b[0;34m=\u001b[0m \u001b[0msio\u001b[0m\u001b[0;34m.\u001b[0m\u001b[0mloadmat\u001b[0m\u001b[0;34m(\u001b[0m\u001b[0mconf\u001b[0m\u001b[0;34m.\u001b[0m\u001b[0mlabelfile\u001b[0m\u001b[0;34m)\u001b[0m\u001b[0;34m\u001b[0m\u001b[0m\n\u001b[0m\u001b[1;32m    134\u001b[0m     \u001b[0mpts\u001b[0m \u001b[0;34m=\u001b[0m \u001b[0mL\u001b[0m\u001b[0;34m[\u001b[0m\u001b[0;34m'pts'\u001b[0m\u001b[0;34m]\u001b[0m\u001b[0;34m\u001b[0m\u001b[0m\n\u001b[1;32m    135\u001b[0m     \u001b[0mts\u001b[0m \u001b[0;34m=\u001b[0m \u001b[0mL\u001b[0m\u001b[0;34m[\u001b[0m\u001b[0;34m'ts'\u001b[0m\u001b[0;34m]\u001b[0m\u001b[0;34m\u001b[0m\u001b[0m\n",
      "\u001b[0;32m/home/mayank/work/python2_venv/newNumpy/local/lib/python2.7/site-packages/scipy/io/matlab/mio.pyc\u001b[0m in \u001b[0;36mloadmat\u001b[0;34m(file_name, mdict, appendmat, **kwargs)\u001b[0m\n\u001b[1;32m    132\u001b[0m     \"\"\"\n\u001b[1;32m    133\u001b[0m     \u001b[0mvariable_names\u001b[0m \u001b[0;34m=\u001b[0m \u001b[0mkwargs\u001b[0m\u001b[0;34m.\u001b[0m\u001b[0mpop\u001b[0m\u001b[0;34m(\u001b[0m\u001b[0;34m'variable_names'\u001b[0m\u001b[0;34m,\u001b[0m \u001b[0mNone\u001b[0m\u001b[0;34m)\u001b[0m\u001b[0;34m\u001b[0m\u001b[0m\n\u001b[0;32m--> 134\u001b[0;31m     \u001b[0mMR\u001b[0m \u001b[0;34m=\u001b[0m \u001b[0mmat_reader_factory\u001b[0m\u001b[0;34m(\u001b[0m\u001b[0mfile_name\u001b[0m\u001b[0;34m,\u001b[0m \u001b[0mappendmat\u001b[0m\u001b[0;34m,\u001b[0m \u001b[0;34m**\u001b[0m\u001b[0mkwargs\u001b[0m\u001b[0;34m)\u001b[0m\u001b[0;34m\u001b[0m\u001b[0m\n\u001b[0m\u001b[1;32m    135\u001b[0m     \u001b[0mmatfile_dict\u001b[0m \u001b[0;34m=\u001b[0m \u001b[0mMR\u001b[0m\u001b[0;34m.\u001b[0m\u001b[0mget_variables\u001b[0m\u001b[0;34m(\u001b[0m\u001b[0mvariable_names\u001b[0m\u001b[0;34m)\u001b[0m\u001b[0;34m\u001b[0m\u001b[0m\n\u001b[1;32m    136\u001b[0m     \u001b[0;32mif\u001b[0m \u001b[0mmdict\u001b[0m \u001b[0;32mis\u001b[0m \u001b[0;32mnot\u001b[0m \u001b[0mNone\u001b[0m\u001b[0;34m:\u001b[0m\u001b[0;34m\u001b[0m\u001b[0m\n",
      "\u001b[0;32m/home/mayank/work/python2_venv/newNumpy/local/lib/python2.7/site-packages/scipy/io/matlab/mio.pyc\u001b[0m in \u001b[0;36mmat_reader_factory\u001b[0;34m(file_name, appendmat, **kwargs)\u001b[0m\n\u001b[1;32m     55\u001b[0m        \u001b[0mtype\u001b[0m \u001b[0mdetected\u001b[0m \u001b[0;32min\u001b[0m \u001b[0;34m`\u001b[0m\u001b[0mfilename\u001b[0m\u001b[0;34m`\u001b[0m\u001b[0;34m.\u001b[0m\u001b[0;34m\u001b[0m\u001b[0m\n\u001b[1;32m     56\u001b[0m     \"\"\"\n\u001b[0;32m---> 57\u001b[0;31m     \u001b[0mbyte_stream\u001b[0m \u001b[0;34m=\u001b[0m \u001b[0m_open_file\u001b[0m\u001b[0;34m(\u001b[0m\u001b[0mfile_name\u001b[0m\u001b[0;34m,\u001b[0m \u001b[0mappendmat\u001b[0m\u001b[0;34m)\u001b[0m\u001b[0;34m\u001b[0m\u001b[0m\n\u001b[0m\u001b[1;32m     58\u001b[0m     \u001b[0mmjv\u001b[0m\u001b[0;34m,\u001b[0m \u001b[0mmnv\u001b[0m \u001b[0;34m=\u001b[0m \u001b[0mget_matfile_version\u001b[0m\u001b[0;34m(\u001b[0m\u001b[0mbyte_stream\u001b[0m\u001b[0;34m)\u001b[0m\u001b[0;34m\u001b[0m\u001b[0m\n\u001b[1;32m     59\u001b[0m     \u001b[0;32mif\u001b[0m \u001b[0mmjv\u001b[0m \u001b[0;34m==\u001b[0m \u001b[0;36m0\u001b[0m\u001b[0;34m:\u001b[0m\u001b[0;34m\u001b[0m\u001b[0m\n",
      "\u001b[0;32m/home/mayank/work/python2_venv/newNumpy/local/lib/python2.7/site-packages/scipy/io/matlab/mio.pyc\u001b[0m in \u001b[0;36m_open_file\u001b[0;34m(file_like, appendmat)\u001b[0m\n\u001b[1;32m     21\u001b[0m     \u001b[0;32mif\u001b[0m \u001b[0misinstance\u001b[0m\u001b[0;34m(\u001b[0m\u001b[0mfile_like\u001b[0m\u001b[0;34m,\u001b[0m \u001b[0mstring_types\u001b[0m\u001b[0;34m)\u001b[0m\u001b[0;34m:\u001b[0m\u001b[0;34m\u001b[0m\u001b[0m\n\u001b[1;32m     22\u001b[0m         \u001b[0;32mtry\u001b[0m\u001b[0;34m:\u001b[0m\u001b[0;34m\u001b[0m\u001b[0m\n\u001b[0;32m---> 23\u001b[0;31m             \u001b[0;32mreturn\u001b[0m \u001b[0mopen\u001b[0m\u001b[0;34m(\u001b[0m\u001b[0mfile_like\u001b[0m\u001b[0;34m,\u001b[0m \u001b[0;34m'rb'\u001b[0m\u001b[0;34m)\u001b[0m\u001b[0;34m\u001b[0m\u001b[0m\n\u001b[0m\u001b[1;32m     24\u001b[0m         \u001b[0;32mexcept\u001b[0m \u001b[0mIOError\u001b[0m \u001b[0;32mas\u001b[0m \u001b[0me\u001b[0m\u001b[0;34m:\u001b[0m\u001b[0;34m\u001b[0m\u001b[0m\n\u001b[1;32m     25\u001b[0m             \u001b[0;32mif\u001b[0m \u001b[0mappendmat\u001b[0m \u001b[0;32mand\u001b[0m \u001b[0;32mnot\u001b[0m \u001b[0mfile_like\u001b[0m\u001b[0;34m.\u001b[0m\u001b[0mendswith\u001b[0m\u001b[0;34m(\u001b[0m\u001b[0;34m'.mat'\u001b[0m\u001b[0;34m)\u001b[0m\u001b[0;34m:\u001b[0m\u001b[0;34m\u001b[0m\u001b[0m\n",
      "\u001b[0;31mIOError\u001b[0m: [Errno 2] No such file or directory: '/home/mayank/Dropbox/AdamVideos/M118_M119_M122_M127_M130_M173_M174_M147_20150615.mat'"
     ]
    }
   ],
   "source": [
    "import pawData\n",
    "reload(pawData)\n",
    "import myutils\n",
    "reload(myutils)\n",
    "pawData.createDB()"
   ]
  },
  {
   "cell_type": "code",
   "execution_count": null,
   "metadata": {
    "collapsed": true
   },
   "outputs": [],
   "source": []
  },
  {
   "cell_type": "code",
   "execution_count": null,
   "metadata": {
    "collapsed": false,
    "scrolled": true
   },
   "outputs": [],
   "source": [
    "import sys\n",
    "sys.path.append('/home/mayank/work/pyutils')\n",
    "sys.path.append('/home/mayank/work/tensorflow')\n",
    "import pawMulti\n",
    "reload(pawMulti)\n",
    "import myutils\n",
    "reload(myutils)\n",
    "import pawconfig\n",
    "reload(pawconfig)\n",
    "import multiPawTools\n",
    "reload(multiPawTools)\n",
    "\n",
    "\n",
    "pawMulti.train()"
   ]
  },
  {
   "cell_type": "code",
   "execution_count": null,
   "metadata": {
    "collapsed": false
   },
   "outputs": [],
   "source": [
    "sess = tf.InteractiveSession()"
   ]
  },
  {
   "cell_type": "code",
   "execution_count": null,
   "metadata": {
    "collapsed": true
   },
   "outputs": [],
   "source": [
    "import scipy.io as sio\n",
    "import os,sys\n",
    "sys.path.append('/home/mayank/work/pyutils')\n",
    "import myutils\n",
    "import re\n",
    "import pawconfig as conf\n",
    "\n",
    "%matplotlib inline\n",
    "import matplotlib\n",
    "import matplotlib.pyplot as plt\n",
    "import numpy as np\n",
    "import scipy\n",
    "import cv2\n",
    "import math\n",
    "import lmdb\n",
    "import caffe\n",
    "from random import randint\n",
    "from multiPawTools import scalepatches\n",
    "\n",
    "\n",
    "L = sio.loadmat(conf.labelfile)\n",
    "pts = L['pts']\n",
    "ts = L['ts']\n",
    "expid = L['expidx']\n",
    "    \n"
   ]
  },
  {
   "cell_type": "code",
   "execution_count": null,
   "metadata": {
    "collapsed": false,
    "scrolled": true
   },
   "outputs": [],
   "source": [
    "frames = np.where(expid[0,:]==4)[0]\n",
    "fnum = ts[0,frames]\n",
    "cap = cv2.VideoCapture('/home/mayank/Dropbox/AdamVideos/multiPoint/M118_20140730/M118_20140730_v002/movie_comb.avi')\n",
    "print(cap.get(cv2.cv.CV_CAP_PROP_FRAME_COUNT))\n",
    "cap.set(cv2.cv.CV_CAP_PROP_POS_FRAMES,1)\n",
    "stat,framein1 = cap.read()\n",
    "cap.set(cv2.cv.CV_CAP_PROP_POS_FRAMES,2)\n",
    "stat,framein2 = cap.read()\n",
    "framein1 = framein1.astype('float')\n",
    "framein2 = framein2.astype('float')\n",
    "ddff = framein1-framein2\n",
    "ddff = np.abs(ddff).astype('uint8')\n",
    "print(stat)\n",
    "if stat:\n",
    "    plt.imshow(ddff)\n",
    "\n",
    "print(ddff.max())    \n",
    "cap.release()"
   ]
  },
  {
   "cell_type": "code",
   "execution_count": null,
   "metadata": {
    "collapsed": false
   },
   "outputs": [],
   "source": [
    "import myutils\n",
    "reload(myutils)\n",
    "import cv2\n",
    "cap = cv2.VideoCapture('/home/mayank/Dropbox/AdamVideos/multiPoint/M118_20140730/M118_20140730_v002/movie_comb.avi')\n",
    "ff = myutils.readframe(cap,1998)\n",
    "print(cap.get(cv2.cv.CV_CAP_PROP_FRAME_COUNT ))\n",
    "cap.set(cv2.cv.CV_CAP_PROP_POS_FRAMES, 1998)\n",
    "print(cap.get(cv2.cv.CV_CAP_PROP_POS_FRAMES))\n",
    "stat,ff = cap.read()\n",
    "print(cap.get(cv2.cv.CV_CAP_PROP_POS_FRAMES))\n",
    "print(stat)"
   ]
  },
  {
   "cell_type": "code",
   "execution_count": null,
   "metadata": {
    "collapsed": false
   },
   "outputs": [],
   "source": [
    "import moviepy.video.io.ffmpeg_reader as freader\n",
    "reader = freader.FFMPEG_VideoReader('/home/mayank/Dropbox/AdamVideos/multiPoint/M118_20140730/M118_20140730_v002/movie_comb.avi')\n",
    "f1 = reader.get_frame((-2.-0.1)/reader.fps)\n",
    "f2 = reader.get_frame((1.-0.1)/reader.fps)\n",
    "fe = reader.get_frame((1998.-0.1)/reader.fps)\n",
    "type(f1)\n"
   ]
  },
  {
   "cell_type": "code",
   "execution_count": null,
   "metadata": {
    "collapsed": true
   },
   "outputs": [],
   "source": [
    "import cv2\n",
    "cap = cv2.VideoCapture('/home/mayank/Dropbox/AdamVideos/movie_comb.avi')\n",
    "          \n"
   ]
  },
  {
   "cell_type": "code",
   "execution_count": null,
   "metadata": {
    "collapsed": false
   },
   "outputs": [],
   "source": [
    "import pawconfig as conf\n",
    "import scipy.io as sio\n",
    "reload(conf)\n",
    "L = sio.loadmat(conf.labelfile)\n",
    "pts = L['pts']\n",
    "ts = L['ts']\n",
    "expid = L['expidx']\n",
    "expid[0,3]"
   ]
  },
  {
   "cell_type": "code",
   "execution_count": null,
   "metadata": {
    "collapsed": false
   },
   "outputs": [],
   "source": [
    "import lmdb\n",
    "env = lmdb.open('cacheHead/val_lmdb', readonly=True)\n",
    "txn = env.begin()\n",
    "print(env.stat())"
   ]
  },
  {
   "cell_type": "code",
   "execution_count": null,
   "metadata": {
    "collapsed": true
   },
   "outputs": [],
   "source": [
    "env.close()"
   ]
  },
  {
   "cell_type": "code",
   "execution_count": null,
   "metadata": {
    "collapsed": false
   },
   "outputs": [],
   "source": [
    "import caffe\n",
    "import numpy as np\n",
    "import re\n",
    "import matplotlib.pyplot as plt\n",
    "import pawData\n",
    "reload(pawData)\n",
    "cursor =txn.cursor()\n",
    "cursor.first()"
   ]
  },
  {
   "cell_type": "code",
   "execution_count": null,
   "metadata": {
    "collapsed": false
   },
   "outputs": [],
   "source": [
    "import multiPawTools\n",
    "reload(multiPawTools)\n",
    "import pawconfig as conf\n",
    "img,locs = multiPawTools.readLMDB(cursor,3,1)"
   ]
  },
  {
   "cell_type": "code",
   "execution_count": null,
   "metadata": {
    "collapsed": false,
    "scrolled": true
   },
   "outputs": [],
   "source": [
    "from scipy import misc\n",
    "from scipy import ndimage\n",
    "reload(multiPawTools)\n",
    "reload(conf)\n",
    "plt.gray()\n",
    "ndx = 2\n",
    "img = img.transpose([0,2,3,1])\n",
    "plt.imshow(img[ndx,:,:,0])\n",
    "plt.show()\n",
    "\n",
    "blurL = multiPawTools.createLabelImages(locs,conf.imsz,conf.rescale*conf.pool_scale,\n",
    "                                        conf.label_blur_rad,1)\n",
    "x0 = multiPawTools.scaleImages(img,conf.rescale)\n",
    "x1 = multiPawTools.scaleImages(x0,conf.scale)\n",
    "x2 = multiPawTools.scaleImages(x1,conf.scale)\n",
    "# labels = np.zeros([img.shape[2]/4,img.shape[3]/4])\n",
    "# labels[int(locs[ndx][1])/4,int(locs[ndx][0])/4] = 1\n",
    "# blurL = ndimage.gaussian_filter(labels,sigma = 3)\n",
    "# blurL = blurL/blurL.max()\n",
    "plt.imshow(blurL[ndx,:,:,0])\n",
    "plt.show()\n",
    "plt.imshow(x2[ndx,:,:,0])\n",
    "plt.show()\n",
    "print(blurL.max(),blurL.min())"
   ]
  },
  {
   "cell_type": "code",
   "execution_count": null,
   "metadata": {
    "collapsed": false,
    "scrolled": true
   },
   "outputs": [],
   "source": [
    "print(blurL[ndx,5:12,35:42,0])"
   ]
  },
  {
   "cell_type": "code",
   "execution_count": null,
   "metadata": {
    "collapsed": false
   },
   "outputs": [],
   "source": [
    "print(blurL.shape)"
   ]
  },
  {
   "cell_type": "code",
   "execution_count": null,
   "metadata": {
    "collapsed": false
   },
   "outputs": [],
   "source": [
    "from scipy import misc\n",
    "sz = img.shape\n",
    "scale =2\n",
    "simg = np.zeros((sz[0],sz[1],sz[2]/scale,sz[3]/scale))\n",
    "for ndx in range(sz[0]):\n",
    "    for chn in range(sz[1]):\n",
    "        simg[ndx,chn,:,:] = misc.imresize(img[ndx,chn,:,:],1./scale)\n",
    "plt.gray()        \n",
    "plt.imshow(simg[1,0,:,:])        \n",
    "plt.show()\n",
    "plt.imshow(img[1,0,:,:])        \n",
    "plt.show()"
   ]
  },
  {
   "cell_type": "code",
   "execution_count": null,
   "metadata": {
    "collapsed": true
   },
   "outputs": [],
   "source": [
    "env.close()"
   ]
  },
  {
   "cell_type": "code",
   "execution_count": null,
   "metadata": {
    "collapsed": false,
    "scrolled": false
   },
   "outputs": [],
   "source": [
    "import pawMulti\n",
    "reload(pawMulti)\n",
    "import pawconfig as conf\n",
    "reload(conf)\n",
    "import tensorflow as tf\n",
    "\n",
    "imsz = conf.imsz\n",
    "x0 = tf.placeholder(tf.float32, [None, imsz[0],imsz[1],1])\n",
    "x1 = tf.placeholder(tf.float32, [None, imsz[0]/2,imsz[1]/2,1])\n",
    "x2 = tf.placeholder(tf.float32, [None, imsz[0]/4,imsz[1]/4,1])\n",
    "dropout = tf.placeholder(tf.float32)\n",
    "labelimg = tf.placeholder(tf.float32, [None, imsz[0]/4,imsz[1]/4,1])\n",
    "\n",
    "weights = pawMulti.initNetConvWeights()\n",
    "pred = pawMulti.paw_net_multi_conv(x0,x1,x2,weights,dropout)"
   ]
  },
  {
   "cell_type": "code",
   "execution_count": null,
   "metadata": {
    "collapsed": false
   },
   "outputs": [],
   "source": [
    "import numpy as np\n",
    "imsz = conf.imsz\n",
    "jj = np.ones([3,imsz[0],imsz[1],1])\n",
    "jj1 = np.ones([3,imsz[0]/2,imsz[1]/2,1])\n",
    "jj2 = np.ones([3,imsz[0]/4,imsz[1]/4,1])\n",
    "sess.run(tf.initialize_all_variables())\n",
    "out = sess.run(pred,feed_dict = {x0:jj,x1:jj1,x2:jj2,labelimg:jj2,dropout:1.})\n",
    "print(out.shape)\n",
    "print(jj2.shape)"
   ]
  },
  {
   "cell_type": "code",
   "execution_count": null,
   "metadata": {
    "collapsed": false
   },
   "outputs": [],
   "source": [
    "sess = tf.InteractiveSession()\n"
   ]
  },
  {
   "cell_type": "code",
   "execution_count": null,
   "metadata": {
    "collapsed": false
   },
   "outputs": [],
   "source": [
    "import tensorflow as tf\n",
    "import numpy as np\n",
    "x0 = tf.placeholder(tf.float32,[3,4])\n",
    "\n",
    "jj = np.arange(12).reshape([2,3,2])\n",
    "indices0 = tf.range(0,2*tf.shape(x0)[1],2)\n",
    "indices1 = tf.range(1,2*tf.shape(x0)[1],2)\n",
    "indices2 = tf.range(0,2*tf.shape(x0)[2],2)\n",
    "indices3 = tf.range(1,2*tf.shape(x0)[2],2)\n",
    "\n",
    "x1 = tf.transpose(tf.dynamic_stitch([indices0,indices1],[x0,x0]),[1,0])\n",
    "x2 = tf.transpose(tf.dynamic_stitch([indices2,indices3],[x1,x1]),[1,0])\n",
    "\n",
    "sess.run(tf.initialize_all_variables())\n",
    "out = sess.run([x1,x2],feed_dict={x0:jj})\n",
    "print(jj)\n",
    "print(out[1])"
   ]
  },
  {
   "cell_type": "code",
   "execution_count": null,
   "metadata": {
    "collapsed": false,
    "scrolled": true
   },
   "outputs": [],
   "source": [
    "sess.close()"
   ]
  },
  {
   "cell_type": "code",
   "execution_count": null,
   "metadata": {
    "collapsed": true
   },
   "outputs": [],
   "source": [
    "import tensorflow as tf\n",
    "\n",
    "import os,sys\n",
    "sys.path.append('/home/mayank/work/caffe/python')\n",
    "\n",
    "import caffe\n",
    "import lmdb\n",
    "import caffe.proto.caffe_pb2\n",
    "import pawconfig as conf\n",
    "\n",
    "from caffe.io import datum_to_array\n",
    "%matplotlib inline\n",
    "\n",
    "import matplotlib\n",
    "import matplotlib.pyplot as plt\n",
    "import numpy as np\n",
    "import scipy\n",
    "import multiPawTools\n",
    "import math\n",
    "import pawMulti\n",
    "\n",
    "learning_rate = conf.learning_rate\n",
    "training_iters = conf.training_iters\n",
    "batch_size = conf.batch_size\n",
    "display_step = conf.display_step\n",
    "\n",
    "# Network Parameters\n",
    "n_input = conf.psz\n",
    "n_classes = conf.n_classes # \n",
    "dropout = conf.dropout # Dropout, probability to keep units\n",
    "imsz = conf.imsz\n",
    "# tf Graph input\n",
    "keep_prob = tf.placeholder(tf.float32) # dropout(keep probability)\n",
    "\n",
    "x0 = tf.placeholder(tf.float32, [None, \n",
    "                                 imsz[0]/conf.rescale,\n",
    "                                 imsz[1]/conf.rescale,1])\n",
    "x1 = tf.placeholder(tf.float32, [None, \n",
    "                                 imsz[0]/conf.scale/conf.rescale,\n",
    "                                 imsz[1]/conf.scale/conf.rescale,1])\n",
    "x2 = tf.placeholder(tf.float32, [None, \n",
    "                                 imsz[0]/conf.scale/conf.scale/conf.rescale,\n",
    "                                 imsz[1]/conf.scale/conf.scale/conf.rescale,1])\n",
    "\n",
    "lsz0 = int(math.ceil(float(imsz[0])/conf.pool_scale/conf.rescale))\n",
    "lsz1 = int(math.ceil(float(imsz[1])/conf.pool_scale/conf.rescale))\n",
    "y = tf.placeholder(tf.float32, [None, lsz0,lsz1,n_classes])\n",
    "\n",
    "lmdbfilename =os.path.join(conf.cachedir,conf.trainfilename)\n",
    "vallmdbfilename =os.path.join(conf.cachedir,conf.valfilename)\n",
    "env = lmdb.open(lmdbfilename, map_size=conf.map_size)\n",
    "valenv = lmdb.open(vallmdbfilename, map_size=conf.map_size)\n",
    "txn = env.begin(write=True)\n",
    "valtxn = valenv.begin(write=True)\n",
    "train_cursor = txn.cursor()\n",
    "val_cursor = valtxn.cursor()\n",
    "weights = pawMulti.initNetConvWeights()\n",
    "\n",
    "# Construct model\n",
    "pred =pawMulti.paw_net_multi_conv(x0,x1,x2, weights, keep_prob)\n",
    "\n",
    "# Define loss and optimizer\n",
    "cost = tf.reduce_mean(tf.nn.l2_loss(pred- y))\n",
    "optimizer = tf.train.AdamOptimizer(learning_rate=learning_rate).minimize(cost)\n",
    "\n",
    "init = tf.initialize_all_variables()\n",
    "saver = tf.train.Saver()\n",
    "\n",
    "sess = tf.InteractiveSession()\n",
    "\n",
    "sess.run(init)\n",
    "\n",
    "saver.restore(sess, 'cache/pawMulti_r2_s3_20000.ckpt')\n",
    " \n",
    "\n",
    "val_xs, locs = multiPawTools.readLMDB(val_cursor,batch_size*4,n_classes)\n",
    "x0_in = multiPawTools.scaleImages(val_xs.transpose([0,2,3,1]),conf.rescale)\n",
    "x1_in = multiPawTools.scaleImages(x0_in,conf.scale)\n",
    "x2_in = multiPawTools.scaleImages(x1_in,conf.scale)\n",
    "labelims = multiPawTools.createLabelImages(locs,\n",
    "                           conf.imsz,conf.pool_scale*conf.rescale,\n",
    "                           conf.label_blur_rad,1)\n",
    "out = sess.run([pred,cost], feed_dict={x0:x0_in,\n",
    "                                 x1:x1_in,\n",
    "                                 x2:x2_in,\n",
    "                           y: labelims, keep_prob: 1.})"
   ]
  },
  {
   "cell_type": "code",
   "execution_count": null,
   "metadata": {
    "collapsed": true
   },
   "outputs": [],
   "source": [
    "import matplotlib.pyplot as plt\n",
    "from IPython import display\n",
    "import time\n",
    "plt.ion()\n",
    "fig,axs = plt.subplots(1,3)\n",
    "plt.gray()\n",
    "for ndx in range(256):\n",
    "    plt.sca(axs[0])\n",
    "    plt.imshow(x0_in[ndx,:,:,0])\n",
    "    display.clear_output(wait=True)\n",
    "#     display.display(plt.gcf())\n",
    "    plt.sca(axs[1])\n",
    "    plt.imshow(out[0][ndx,:,:,0])\n",
    "    display.clear_output(wait=True)\n",
    "#     display.display(plt.gcf())\n",
    "    plt.sca(axs[2])\n",
    "    plt.imshow(labelims[ndx,:,:,0])\n",
    "    display.clear_output(True)\n",
    "    display.display(fig)\n",
    "    time.sleep(1)"
   ]
  },
  {
   "cell_type": "code",
   "execution_count": null,
   "metadata": {
    "collapsed": false,
    "scrolled": true
   },
   "outputs": [],
   "source": [
    "import cv2\n",
    "import matplotlib.animation as manimation\n",
    "sys.path.append('/home/mayank/work/pyutils')\n",
    "import myutils\n",
    "import matplotlib\n",
    "import tempfile\n",
    "\n",
    "\n",
    "curdir = '/home/mayank/Dropbox/AdamVideos/multiPoint/M122_20140828/M122_20140828_v002'\n",
    "tdir = tempfile.mkdtemp()\n",
    "# plt.rcParams['animation.ffmpeg_path'] = '/usr/bin/ffmpeg'\n",
    "# FFMpegWriter = manimation.writers['mencoder_file']\n",
    "# writer = FFMpegWriter(fps=15,bitrate=2000)\n",
    "\n",
    "fig = plt.figure()\n",
    "\n",
    "cap = cv2.VideoCapture(os.path.join(curdir,'movie_comb.avi'))\n",
    "nframes = int(cap.get(cv2.cv.CV_CAP_PROP_FRAME_COUNT))\n",
    "plt.gray()\n",
    "# with writer.saving(fig,\"test_results.mp4\",4):\n",
    "count = 0\n",
    "vidfilename = 'paw_detect.avi'\n",
    "for fnum in range(nframes):\n",
    "    plt.clf()\n",
    "    framein = myutils.readframe(cap,fnum)\n",
    "    framein = framein[np.newaxis,:,0:(framein.shape[1]/2),0:1]\n",
    "    x0_in = multiPawTools.scaleImages(framein,conf.rescale)\n",
    "    x1_in = multiPawTools.scaleImages(x0_in,conf.scale)\n",
    "    x2_in = multiPawTools.scaleImages(x1_in,conf.scale)\n",
    "    labelim = np.zeros([1,33,44,1])\n",
    "    out = sess.run(pred, feed_dict={x0:x0_in,\n",
    "                     x1:x1_in,\n",
    "                     x2:x2_in,\n",
    "                     y:labelim,\n",
    "                     keep_prob: 1.})\n",
    "    plt.imshow(x0_in[0,:,:,0])\n",
    "    maxndx = np.argmax(out[0,:,:,0])\n",
    "    loc = np.unravel_index(maxndx,out.shape[1:3])\n",
    "    plt.scatter(loc[1]*4,loc[0]*4,hold=True)\n",
    "\n",
    "    fname = \"test_{:06d}.png\".format(count)\n",
    "    plt.savefig(os.path.join(tdir,fname))\n",
    "    count+=1\n",
    "#     plt.imshow(out[0,:,:,0])\n",
    "#     fname = \"test_heat_{:d}.png\".format(fnum)\n",
    "#     plt.savefig(fname)\n",
    "\n",
    "#         writer.grab_frame()\n",
    "\n",
    "ffmpeg_cmd = \"ffmpeg -r 30 \" + \\\n",
    "\"-f image2 -i '/path/to/your/picName%d.png' -qscale 0 '/path/to/your/new/video.avi'\n",
    "\n",
    "tfilestr = os.path.join(tdir,'test_*.png')\n",
    "mencoder_cmd = \"mencoder mf://\" + tfilestr + \\\n",
    "\" -frames \" + \"{:d}\".format(count) + \" -mf type=png:fps=15 -o \" + \\\n",
    "vidfilename + \" -ovc lavc -lavcopts vcodec=mpeg4:vbitrate=2000000\"\n",
    "print(mencoder_cmd)\n",
    "os.system(mencoder_cmd)\n",
    "cap.release()\n"
   ]
  },
  {
   "cell_type": "code",
   "execution_count": null,
   "metadata": {
    "collapsed": false
   },
   "outputs": [],
   "source": [
    "import pawData\n",
    "a,b,c = pawData.loadValdata()"
   ]
  },
  {
   "cell_type": "code",
   "execution_count": null,
   "metadata": {
    "collapsed": false,
    "scrolled": true
   },
   "outputs": [],
   "source": [
    "import pawData\n",
    "import pawMulti\n",
    "import scipy.io as sio\n",
    "import pawconfig as conf\n",
    "reload(pawMulti)\n",
    "reload(conf)\n",
    "import os\n",
    "import numpy as np\n",
    "import tensorflow as tf\n",
    "import tempfile\n",
    "import matplotlib.pyplot as plt\n",
    "import cv2\n",
    "import sys,copy\n",
    "sys.path.append('/home/mayank/work/pyutils')\n",
    "import myutils\n",
    "\n",
    "\n",
    "isval,localdirs,seldirs = pawData.loadValdata()\n",
    "model_file = 'cache/pawMulti_r2_s3_20000.ckpt'\n",
    "movcount = 0\n",
    "maxcount = 5\n",
    "L = sio.loadmat(conf.labelfile)\n",
    "pts = L['pts']\n",
    "ts = L['ts']\n",
    "expid = L['expidx']\n",
    "\n",
    "pred,saver,pholders = pawMulti.initPredSession()\n",
    "tdir = tempfile.mkdtemp()\n",
    "\n",
    "plt.gray()\n",
    "# with writer.saving(fig,\"test_results.mp4\",4):\n",
    "fig = plt.figure()\n",
    "\n",
    "with tf.Session() as sess:\n",
    "    saver.restore(sess, model_file)\n",
    "    for ndx,dirname in enumerate(localdirs):\n",
    "        if movcount> maxcount:\n",
    "            break\n",
    "        if not seldirs[ndx]:\n",
    "            continue\n",
    "\n",
    "        expname = os.path.basename(dirname)\n",
    "        frames = np.where(expid[0,:] == (ndx + 1))[0]\n",
    "        curdir = localdirs[ndx]\n",
    "        outmovie = expname + \".avi\"\n",
    "        cap = cv2.VideoCapture(os.path.join(curdir,'movie_comb.avi'))\n",
    "        nframes = int(cap.get(cv2.cv.CV_CAP_PROP_FRAME_COUNT))\n",
    "\n",
    "        count = 0\n",
    "        for fnum in range(nframes):\n",
    "            plt.clf()\n",
    "            plt.axis('off')\n",
    "            framein = myutils.readframe(cap,fnum)\n",
    "            framein = framein[:,0:(framein.shape[1]/2),0:1            out = pawMulti.predict(copy.copy(framein),sess,pred,pholders)\n",
    "            plt.imshow(framein[:,:,0])\n",
    "            maxndx = np.argmax(out[0,:,:,0])\n",
    "            loc = np.unravel_index(maxndx,out.shape[1:3])\n",
    "            scalefactor = conf.rescale*conf.pool_scale\n",
    "            plt.scatter(loc[1]*scalefactor,loc[0]*scalefactor,hold=True)\n",
    "\n",
    "            fname = \"test_{:06d}.png\".format(count)\n",
    "            plt.savefig(os.path.join(tdir,fname))\n",
    "            count+=1\n",
    "\n",
    "    #     ffmpeg_cmd = \"ffmpeg -r 30 \" + \\\n",
    "    #     \"-f image2 -i '/path/to/your/picName%d.png' -qscale 0 '/path/to/your/new/video.avi'\n",
    "\n",
    "        tfilestr = os.path.join(tdir,'test_*.png')\n",
    "        mencoder_cmd = \"mencoder mf://\" + tfilestr + \\\n",
    "        \" -frames \" + \"{:d}\".format(count) + \" -mf type=png:fps=15 -o \" + \\\n",
    "        outmovie + \" -ovc lavc -lavcopts vcodec=mpeg4:vbitrate=2000000\"\n",
    "    #     print(mencoder_cmd)\n",
    "        os.system(mencoder_cmd)\n",
    "        cap.release()\n",
    "\n",
    "        movcount+=1"
   ]
  },
  {
   "cell_type": "code",
   "execution_count": null,
   "metadata": {
    "collapsed": false
   },
   "outputs": [],
   "source": [
    "import tensorflow as tf\n",
    "\n",
    "sess = tf.InteractiveSession()\n",
    "\n",
    "kk = tf.constant([3,-2,0.1,-0.05,5])\n",
    "ss = tf.sign(kk)\n",
    "mm = tf.mul(ss,tf.maximum(tf.abs(kk)-0.2,0))\n",
    "aa = mm.eval()\n",
    "print(aa)"
   ]
  },
  {
   "cell_type": "code",
   "execution_count": null,
   "metadata": {
    "collapsed": false
   },
   "outputs": [],
   "source": [
    "import lmdb\n",
    "lmdbfilename= 'cacheHeadSide/train_lmdb'\n",
    "env = lmdb.open(lmdbfilename, readonly = True)\n",
    "\n",
    "\n",
    "txn = env.begin()\n",
    "print(txn.stat()['entries'])"
   ]
  },
  {
   "cell_type": "code",
   "execution_count": null,
   "metadata": {
    "collapsed": false
   },
   "outputs": [],
   "source": [
    "import PoseTools\n",
    "import multiResData\n",
    "cursor = txn.cursor()\n",
    "ii,ll = PoseTools.readLMDB(cursor,1,[512, 512],multiResData)\n",
    "print ii.shape\n",
    "print ll\n",
    "plt.imshow(ii[0,0,:,:])"
   ]
  },
  {
   "cell_type": "code",
   "execution_count": null,
   "metadata": {
    "collapsed": false
   },
   "outputs": [],
   "source": [
    "import pickle\n",
    "\n",
    "with open('cacheHead/headMRFtraindata','rb') as f:\n",
    "    gg = pickle.load(f)\n",
    "    "
   ]
  },
  {
   "cell_type": "code",
   "execution_count": null,
   "metadata": {
    "collapsed": false
   },
   "outputs": [],
   "source": [
    "print gg[0].keys()\n",
    "plt.clf()\n",
    "x = gg[0]['step_no'][5:]\n",
    "plt.plot(x,gg[0]['val_base_dist'][5:])\n",
    "plt.plot(x,gg[0]['val_dist'][5:], hold=True)\n",
    "plt.legend(('base','mrf'))"
   ]
  },
  {
   "cell_type": "code",
   "execution_count": null,
   "metadata": {
    "collapsed": false,
    "scrolled": true
   },
   "outputs": [],
   "source": [
    "from janLegConfig import conf as conf\n",
    "# from stephenHeadConfig import sideconf as conf\n",
    "import PoseTools\n",
    "\n",
    "jj = PoseTools.initMRFweights(conf)\n",
    "jj.shape\n",
    "for ndx in range(conf.n_classes):\n",
    "    fig = plt.figure()\n",
    "    for ii in range(conf.n_classes):\n",
    "        ax1 = fig.add_subplot(2,2,ii+1)\n",
    "        ax1.imshow(jj[:,:,ndx,ii],interpolation='nearest',vmax=1.,vmin=0.)\n",
    "    plt.show()\n",
    "    "
   ]
  },
  {
   "cell_type": "code",
   "execution_count": null,
   "metadata": {
    "collapsed": false
   },
   "outputs": [],
   "source": [
    "np.set_printoptions(precision=2)\n",
    "# print jj[35:45,35:45,0,1]\n",
    "print np.array_str(jj[35:45,35:45,2,3],precision=2,suppress_small = True)"
   ]
  },
  {
   "cell_type": "code",
   "execution_count": null,
   "metadata": {
    "collapsed": false
   },
   "outputs": [],
   "source": [
    "from stephenHeadConfig import conf as conf\n",
    "import multiResData\n",
    "a,b,c = multiResData.loadValdata(conf)\n",
    "print max(int(len(a)/conf.holdoutratio),1)\n",
    "print len(a)\n",
    "print a\n",
    "print a.index(88)"
   ]
  },
  {
   "cell_type": "code",
   "execution_count": null,
   "metadata": {
    "collapsed": false
   },
   "outputs": [],
   "source": [
    "from stephenHeadConfig import conf as conf\n",
    "import multiResData\n",
    "isval,a,b = multiResData.loadValdata(conf)\n",
    "n_ho = min(max(int(len(isval)*conf.holdoutratio),1),len(isval)-1)\n",
    "print n_ho\n",
    "print isval.index(73)\n",
    "print len(isval)"
   ]
  },
  {
   "cell_type": "code",
   "execution_count": null,
   "metadata": {
    "collapsed": false,
    "scrolled": true
   },
   "outputs": [],
   "source": [
    "from stephenHeadConfig import conf as conf\n",
    "import multiResData\n",
    "reload(multiResData)\n",
    "_,x = multiResData.getMovieLists(conf)\n",
    "x"
   ]
  },
  {
   "cell_type": "code",
   "execution_count": null,
   "metadata": {
    "collapsed": false
   },
   "outputs": [],
   "source": [
    "from stephenHeadConfig import conf as conf\n",
    "import multiResData\n",
    "import cv2\n",
    "\n",
    "print cl\n",
    "_,valmovies = multiResData.getMovieLists(conf)\n",
    "ndx = -3\n",
    "cap = cv2.VideoCapture(valmovies[ndx])\n",
    "height = int(cap.get(cv2.cv.CV_CAP_PROP_FRAME_HEIGHT))\n",
    "width = int(cap.get(cv2.cv.CV_CAP_PROP_FRAME_WIDTH))\n",
    "orig_crop_loc = conf.cropLoc[(height,width)]\n",
    "crop_loc = [x/4 for x in orig_crop_loc] \n",
    "print orig_crop_loc"
   ]
  },
  {
   "cell_type": "code",
   "execution_count": null,
   "metadata": {
    "collapsed": false
   },
   "outputs": [],
   "source": [
    "from matplotlib import cm\n",
    "cmap = cm.get_cmap('jet')\n",
    "rgba = cmap(np.linspace(0,1,4))\n",
    "print rgba\n",
    "\n",
    "ii = np.zeros([4,4,3])\n",
    "for ndx in range(4):\n",
    "    ii[:,ndx,:] =cm.hsv(0+1./4.*ndx)[0:3]\n",
    "plt.imshow(ii)    "
   ]
  },
  {
   "cell_type": "code",
   "execution_count": null,
   "metadata": {
    "collapsed": false,
    "scrolled": true
   },
   "outputs": [],
   "source": [
    "import PoseTrain\n",
    "reload(PoseTrain)\n",
    "from stephenHeadConfig import conf as conf\n",
    "import tensorflow as tf\n",
    "import os\n",
    "os.environ['CUDA_VISIBLE_DEVICES'] = '2'\n",
    "\n",
    "pobj = PoseTrain.PoseTrain(conf)\n",
    "pobj.mrfTrain(restore=False)"
   ]
  },
  {
   "cell_type": "code",
   "execution_count": null,
   "metadata": {
    "collapsed": false
   },
   "outputs": [],
   "source": [
    "import multiResData\n",
    "from stephenHeadConfig import conf as conf\n",
    "_,valmovies = multiResData.getMovieLists(conf)"
   ]
  },
  {
   "cell_type": "code",
   "execution_count": null,
   "metadata": {
    "collapsed": false
   },
   "outputs": [],
   "source": [
    "print valmovies[0][17:]"
   ]
  },
  {
   "cell_type": "code",
   "execution_count": null,
   "metadata": {
    "collapsed": false
   },
   "outputs": [],
   "source": [
    "# create a list of movies for stephen -- May 23 2016\n",
    "import os\n",
    "with open(\"/groups/branson/bransonlab/mayank/PoseEstimationData/Stephen/folders2track.txt\", \"r\") as text_file:\n",
    "    movies = text_file.readlines()\n",
    "movies = [x.rstrip() for x in movies]\n",
    "\n",
    "import glob\n",
    "sdir = movies[0::2]    \n",
    "fdir = movies[1::2]\n",
    "fmovies = []\n",
    "smovies = []\n",
    "for ndx,ff  in enumerate(sdir):\n",
    "    kk = glob.glob(ff+'/*_c.avi')\n",
    "    if len(kk) is not 1:\n",
    "        print ff\n",
    "        continue\n",
    "    smovies.append(kk[0])\n",
    "    kk = glob.glob(fdir[ndx]+'/*_c.avi')\n",
    "    fmovies += kk\n",
    "        \n",
    "print smovies[0:3]\n",
    "print fmovies[0:3]\n",
    "print len(smovies)\n",
    "print len(fmovies)\n",
    "for ff in smovies+fmovies:\n",
    "    if not os.path.isfile(ff):\n",
    "        print ff"
   ]
  },
  {
   "cell_type": "code",
   "execution_count": null,
   "metadata": {
    "collapsed": false
   },
   "outputs": [],
   "source": [
    "import localSetup\n",
    "import PoseTools\n",
    "reload(PoseTools)\n",
    "import multiResData\n",
    "reload(multiResData)\n",
    "import os\n",
    "import re\n",
    "import tensorflow as tf\n",
    "from scipy import io\n",
    "\n",
    "# from stephenHeadConfig import sideconf as conf\n",
    "# conf.useMRF = False\n",
    "# extrastr = '_side'\n",
    "# outtype = 1\n",
    "os.environ['CUDA_VISIBLE_DEVICES'] = '2'\n",
    "\n",
    "from stephenHeadConfig import conf as conf\n",
    "conf.useMRF = True\n",
    "outtype = 2\n",
    "extrastr = ''\n",
    "redo = False\n",
    "\n",
    "# conf.batch_size = 1\n",
    "\n",
    "self = PoseTools.createNetwork(conf,outtype)\n",
    "sess = tf.InteractiveSession()\n",
    "PoseTools.initNetwork(self,sess,outtype)\n",
    "\n",
    "from scipy import io\n",
    "import cv2\n",
    "\n",
    "# _,valmovies = multiResData.getMovieLists(conf)\n",
    "# for ndx in range(len(valmovies)):\n",
    "#     valmovies[ndx] = '/groups/branson/bransonlab/mayank/' + valmovies[ndx][17:]\n",
    "# for ndx in [0,3,-3,-1]:\n",
    "    \n",
    "# valmovies = ['/groups/branson/bransonlab/projects/flyHeadTracking/ExamplefliesWithNoTrainingData/fly138/fly138_trial1/C002H001S0001/C002H001S0001_c.avi',\n",
    "#              '/groups/branson/bransonlab/projects/flyHeadTracking/ExamplefliesWithNoTrainingData/fly138/fly138_trial2/C002H001S0001/C002H001S0001_c.avi',\n",
    "#              '/groups/branson/bransonlab/projects/flyHeadTracking/ExamplefliesWithNoTrainingData/fly138/fly138_trial3/C002H001S0001/C002H001S0001_c.avi',\n",
    "#              '/groups/branson/bransonlab/projects/flyHeadTracking/ExamplefliesWithNoTrainingData/fly138/fly138_trial4/C002H001S0001/C002H001S0001_c.avi',\n",
    "#              '/groups/branson/bransonlab/projects/flyHeadTracking/ExamplefliesWithNoTrainingData/fly163/fly163_trial1/C002H001S0001/C002H001S0001_c.avi',\n",
    "#              '/groups/branson/bransonlab/projects/flyHeadTracking/ExamplefliesWithNoTrainingData/fly163/fly163_trial2/C002H001S0001/C002H001S0001_c.avi',\n",
    "#              '/groups/branson/bransonlab/projects/flyHeadTracking/ExamplefliesWithNoTrainingData/fly163/fly163_trial3/C002H001S0001/C002H001S0001_c.avi',\n",
    "#              '/groups/branson/bransonlab/projects/flyHeadTracking/ExamplefliesWithNoTrainingData/fly163/fly163_trial4/C002H001S0001/C002H001S0001_c.avi',\n",
    "#             ]\n",
    "# for ndx in range(len(valmovies)):\n",
    "valmovies = fmovies\n",
    "\n",
    "for ndx in range(len(valmovies)):\n",
    "    \n",
    "    mname,_ = os.path.splitext(os.path.basename(valmovies[ndx]))\n",
    "    oname = re.sub('!','__',conf.getexpname(valmovies[ndx]))\n",
    "#     pname = '/groups/branson/home/kabram/bransonlab/PoseTF/results/headResults/movies/' + oname + extrastr\n",
    "    pname = '/nobackup/branson/mayank/stephenOut/' + oname + extrastr\n",
    "    \n",
    "    if os.path.isfile(pname + '.mat') and not redo:\n",
    "        continue\n",
    "        \n",
    "    predList = PoseTools.classifyMovie(conf,valmovies[ndx],outtype,self,sess)\n",
    "    if ndx<5:\n",
    "        PoseTools.createPredMovie(conf,predList,valmovies[ndx],pname + '.avi',outtype)\n",
    "\n",
    "\n",
    "    cap = cv2.VideoCapture(valmovies[ndx])\n",
    "    height = int(cap.get(cv2.CAP_PROP_FRAME_HEIGHT))\n",
    "    width = int(cap.get(cv2.CAP_PROP_FRAME_WIDTH))\n",
    "    orig_crop_loc = conf.cropLoc[(height,width)]\n",
    "    crop_loc = [x/4 for x in orig_crop_loc] \n",
    "    end_pad = [height/4-crop_loc[0]-conf.imsz[0]/4,width/4-crop_loc[1]-conf.imsz[1]/4]\n",
    "    pp = [(0,0),(crop_loc[0],end_pad[0]),(crop_loc[1],end_pad[1]),(0,0),(0,0)]\n",
    "    predScores = np.pad(predList[1],pp,mode='constant',constant_values=-1.)\n",
    "\n",
    "    predLocs = predList[0]\n",
    "    predLocs[:,:,:,0] += orig_crop_loc[1]\n",
    "    predLocs[:,:,:,1] += orig_crop_loc[0]\n",
    "    \n",
    "    io.savemat(pname + '.mat',{'locs':predLocs,'scores':predScores[...,0],'expname':valmovies[ndx]})\n",
    "\n",
    "    print \"Done prediction for %s\" %oname\n",
    "\n",
    "\n",
    "print pp\n",
    "print predList[1].shape"
   ]
  },
  {
   "cell_type": "code",
   "execution_count": null,
   "metadata": {
    "collapsed": false
   },
   "outputs": [],
   "source": [
    "# creating movie for lab talk 20160611\n",
    "\n",
    "import localSetup\n",
    "import PoseTools\n",
    "reload(PoseTools)\n",
    "import multiResData\n",
    "reload(multiResData)\n",
    "import os\n",
    "import re\n",
    "import tensorflow as tf\n",
    "from scipy import io\n",
    "\n",
    "# from stephenHeadConfig import sideconf as conf\n",
    "# conf.useMRF = False\n",
    "# extrastr = '_side'\n",
    "# outtype = 1\n",
    "os.environ['CUDA_VISIBLE_DEVICES'] = '2'\n",
    "\n",
    "from stephenHeadConfig import conf as conf\n",
    "conf.useMRF = False\n",
    "outtype = 1\n",
    "extrastr = ''\n",
    "redo = False\n",
    "\n",
    "# conf.batch_size = 1\n",
    "\n",
    "self = PoseTools.createNetwork(conf,outtype)\n",
    "sess = tf.InteractiveSession()\n",
    "PoseTools.initNetwork(self,sess,outtype)\n",
    "\n",
    "from scipy import io\n",
    "import cv2\n",
    "\n",
    "_,valmovies = multiResData.getMovieLists(conf)\n",
    "for ndx in range(len(valmovies)):\n",
    "    valmovies[ndx] = '/groups/branson/bransonlab/mayank/' + valmovies[ndx][17:]\n",
    "for ndx in [0,3,-3,-1]:\n",
    "    \n",
    "    mname,_ = os.path.splitext(os.path.basename(valmovies[ndx]))\n",
    "    oname = re.sub('!','__',conf.getexpname(valmovies[ndx]))\n",
    "#     pname = '/groups/branson/home/kabram/bransonlab/PoseTF/results/headResults/movies/' + oname + extrastr\n",
    "    pname = '/nobackup/branson/mayank/stephenOut/forDrosoneuroBase_'+ oname + extrastr\n",
    "    \n",
    "    if os.path.isfile(pname + '.mat') and not redo:\n",
    "        continue\n",
    "        \n",
    "    predList = PoseTools.classifyMovie(conf,valmovies[ndx],outtype,self,sess)\n",
    "    if ndx<5:\n",
    "        PoseTools.createPredMovie(conf,predList,valmovies[ndx],pname + '.avi',outtype)\n",
    "\n",
    "\n",
    "#     cap = cv2.VideoCapture(valmovies[ndx])\n",
    "#     height = int(cap.get(cv2.CAP_PROP_FRAME_HEIGHT))\n",
    "#     width = int(cap.get(cv2.CAP_PROP_FRAME_WIDTH))\n",
    "#     orig_crop_loc = conf.cropLoc[(height,width)]\n",
    "#     crop_loc = [x/4 for x in orig_crop_loc] \n",
    "#     end_pad = [height/4-crop_loc[0]-conf.imsz[0]/4,width/4-crop_loc[1]-conf.imsz[1]/4]\n",
    "#     pp = [(0,0),(crop_loc[0],end_pad[0]),(crop_loc[1],end_pad[1]),(0,0),(0,0)]\n",
    "#     predScores = np.pad(predList[1],pp,mode='constant',constant_values=-1.)\n",
    "\n",
    "#     predLocs = predList[0]\n",
    "#     predLocs[:,:,:,0] += orig_crop_loc[1]\n",
    "#     predLocs[:,:,:,1] += orig_crop_loc[0]\n",
    "    \n",
    "#     io.savemat(pname + '.mat',{'locs':predLocs,'scores':predScores[...,0],'expname':valmovies[ndx]})\n",
    "\n",
    "    print \"Done prediction for %s\" %oname\n",
    "\n",
    "\n"
   ]
  },
  {
   "cell_type": "code",
   "execution_count": null,
   "metadata": {
    "collapsed": false,
    "scrolled": true
   },
   "outputs": [],
   "source": [
    "# Compute Errors for validation.\n",
    "import os\n",
    "import localSetup\n",
    "import PoseTools\n",
    "import PoseTrain\n",
    "import caffe\n",
    "from stephenHeadConfig import conf as conf\n",
    "import tensorflow as tf\n",
    "from matplotlib import cm\n",
    "\n",
    "os.environ['CUDA_VISIBLE_DEVICES'] = '2'\n",
    "\n",
    "conf.useMRF = True\n",
    "conf.useAC = False\n",
    "conf.batch_size = 1;\n",
    "outtype = 3 \n",
    "self = PoseTools.createNetwork(conf,outtype)\n",
    "self.openDBs()\n",
    "\n",
    "sess = tf.InteractiveSession()\n",
    "PoseTools.initNetwork(self,sess,outtype)\n",
    "nval = int(self.valenv.stat()['entries'])\n",
    "\n",
    "predErr = np.zeros([3,conf.n_classes,2,nval])\n",
    "with self.valenv.begin() as valtxn:\n",
    "    self.val_cursor = valtxn.cursor()\n",
    "    self.val_cursor.first()\n",
    "    for ndx in range(nval):\n",
    "        self.feed_dict[self.ph['keep_prob']] = 1.\n",
    "        self.feed_dict[self.ph['learning_rate']] = 1.\n",
    "        self.updateFeedDict(self.DBType.Val)\n",
    "        preds = sess.run([self.basePred,self.mrfPred,self.finePred],feed_dict=self.feed_dict)\n",
    "        predErr[0,:,:,ndx] = PoseTools.getBaseError(self.locs,preds[0],conf)[0,...]\n",
    "        mrfErr,fineErr = PoseTools.getFineError(self.locs,preds[1],preds[2],conf)\n",
    "        predErr[1,:,:,ndx] = mrfErr[0,...]\n",
    "        predErr[2,:,:,ndx] = fineErr[0,...]\n",
    "        \n",
    "\n",
    "gg = np.sqrt( (np.square(predErr[:,:,0,:])+np.square(predErr[:,:,0,:])))\n",
    "hh = np.mean(gg,2)\n",
    "\n",
    "\n",
    "with self.valenv.begin() as valtxn:\n",
    "    self.val_cursor = valtxn.cursor()\n",
    "    self.val_cursor.first()\n",
    "    for ndx in range(12):\n",
    "        self.updateFeedDict(self.DBType.Val)\n",
    "\n",
    "cc=cm.hsv(np.linspace(0,1-1./conf.n_classes,conf.n_classes))\n",
    "xx = self.feed_dict[self.ph['x0']]\n",
    "ll = self.locs[0,:,:]\n",
    "fig = plt.figure(figsize = (6,20))\n",
    "\n",
    "for ii in range(3):\n",
    "    llb = np.tile(ll[...,np.newaxis],[1,1,predErr.shape[-1]]) + predErr[ii,...]\n",
    "    ax1 = fig.add_subplot(3,1,ii+1)\n",
    "    ax1.imshow(xx[0,...,0], cmap=cm.gray)\n",
    "\n",
    "    for ndx in range(conf.n_classes):\n",
    "        ax1.scatter(llb[ndx,0,:].flatten(),llb[ndx,1,:].flatten(),c=cc[ndx:ndx+1,:],edgecolors='face',s=5,alpha=1)\n",
    "    ax1.axis('off')\n",
    "    ax1.set_title('%.2f'%hh.mean(1)[ii])\n",
    "fig.savefig('/groups/branson/home/kabram/temp/headValResults.png')"
   ]
  },
  {
   "cell_type": "code",
   "execution_count": null,
   "metadata": {
    "collapsed": false
   },
   "outputs": [],
   "source": [
    "import multiResData\n",
    "from stephenHeadConfig import conf as conf\n",
    "\n",
    "_,valmovies = multiResData.getMovieLists(conf)\n",
    "f = open('/home/mayank/Dropbox/temp/valfilelist.txt','w')\n",
    "for ndx in range(40,50):\n",
    "    f.write('{:}\\n'.format(valmovies[ndx]))\n",
    "f.close()    "
   ]
  },
  {
   "cell_type": "code",
   "execution_count": null,
   "metadata": {
    "collapsed": false
   },
   "outputs": [],
   "source": [
    "import h5py\n",
    "\n",
    "L = h5py.File('/home/mayank/temp/romainTest.lbl','r')\n",
    "\n"
   ]
  },
  {
   "cell_type": "code",
   "execution_count": null,
   "metadata": {
    "collapsed": false
   },
   "outputs": [],
   "source": [
    "print L.keys()"
   ]
  },
  {
   "cell_type": "code",
   "execution_count": null,
   "metadata": {
    "collapsed": false
   },
   "outputs": [],
   "source": [
    "print L['movieFilesAll'][0,:]"
   ]
  },
  {
   "cell_type": "code",
   "execution_count": null,
   "metadata": {
    "collapsed": false
   },
   "outputs": [],
   "source": [
    "print [u''.join(unichr(c) for c in L[L['movieFilesAll'][2][0]])]"
   ]
  },
  {
   "cell_type": "code",
   "execution_count": null,
   "metadata": {
    "collapsed": false
   },
   "outputs": [],
   "source": [
    "p1 = np.array(L['labeledpos'])\n",
    "print p1.shape\n",
    "print p1[0,0]\n",
    "print L[p1[0,0]]\n",
    "p2 = np.array(L[p1[0,0]])\n",
    "print p2.shape\n",
    "print np.invert( np.isnan(p2[1,:,0:5]))"
   ]
  },
  {
   "cell_type": "code",
   "execution_count": null,
   "metadata": {
    "collapsed": false
   },
   "outputs": [],
   "source": [
    "curpts = p2\n",
    "frames = np.where(np.invert( np.isnan(curpts[:,0,0])))[0]\n",
    "print frames.shape"
   ]
  },
  {
   "cell_type": "code",
   "execution_count": null,
   "metadata": {
    "collapsed": false
   },
   "outputs": [],
   "source": [
    "for ndx in frames[0:10]:\n",
    "    print ndx"
   ]
  },
  {
   "cell_type": "code",
   "execution_count": null,
   "metadata": {
    "collapsed": false
   },
   "outputs": [],
   "source": [
    "xx= np.array(L['cfg']['NumLabelPoints'])\n",
    "kk= int(xx[0,0]*2) + np.arange(3,7)\n",
    "gg = p2[:,:,kk]\n",
    "print gg.shape"
   ]
  },
  {
   "cell_type": "code",
   "execution_count": null,
   "metadata": {
    "collapsed": false
   },
   "outputs": [],
   "source": [
    "type([1,3,2]) is list"
   ]
  },
  {
   "cell_type": "code",
   "execution_count": 3,
   "metadata": {
    "collapsed": false
   },
   "outputs": [
    {
     "name": "stdout",
     "output_type": "stream",
     "text": [
      "True\n"
     ]
    }
   ],
   "source": [
    "import cv2\n",
    "import PoseTools\n",
    "from cvc import cvc\n",
    "import myutils\n",
    "\n",
    "moviename = '/home/mayank/Dropbox/MultiViewFlyLegTracking/trackingJun22-11-02/bias_video_cam_2_date_2016_06_22_time_11_02_28_v001.avi'\n",
    "nfr = 200\n",
    "\n",
    "aim1 = np.zeros([624,672,3,nfr])\n",
    "aim2 = np.zeros([624,672,3,nfr])\n",
    "cap = cv2.VideoCapture(moviename)\n",
    "for ndx in range(nfr):\n",
    "    s,i = cap.read()\n",
    "    aim1[...,ndx] = i\n",
    "cap.release()\n",
    "\n",
    "cap,nframes = PoseTools.openMovie(moviename)\n",
    "for ndx in range(nfr):\n",
    "    i = myutils.readframe(cap,ndx)\n",
    "    aim2[...,ndx] = i\n",
    "cap.release()\n",
    "print np.array_equal(aim1,aim2)"
   ]
  },
  {
   "cell_type": "code",
   "execution_count": 4,
   "metadata": {
    "collapsed": true
   },
   "outputs": [],
   "source": [
    "from scipy import misc\n",
    "misc.imresize()"
   ]
  }
 ],
 "metadata": {
  "kernelspec": {
   "display_name": "Python 2",
   "language": "python",
   "name": "python2"
  },
  "language_info": {
   "codemirror_mode": {
    "name": "ipython",
    "version": 2
   },
   "file_extension": ".py",
   "mimetype": "text/x-python",
   "name": "python",
   "nbconvert_exporter": "python",
   "pygments_lexer": "ipython2",
   "version": "2.7.6"
  }
 },
 "nbformat": 4,
 "nbformat_minor": 0
}
