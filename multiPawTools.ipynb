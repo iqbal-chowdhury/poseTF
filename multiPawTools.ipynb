{
 "cells": [
  {
   "cell_type": "code",
   "execution_count": null,
   "metadata": {
    "collapsed": true
   },
   "outputs": [],
   "source": [
    "import numpy as np\n",
    "import scipy\n",
    "import math\n",
    "import caffe\n",
    "import pawData\n",
    "import pawconfig as conf\n",
    "from scipy import misc\n",
    "from scipy import ndimage\n",
    "\n",
    "def scalepatches(patch,scale,num,rescale):\n",
    "    sz = patch.shape\n",
    "    assert sz[0]%( (scale**(num-1))*rescale) is 0,\"patch size isn't divisible by scale\"\n",
    "    \n",
    "    patches = []\n",
    "    patches.append(scipy.misc.imresize(patch[:,:,0],1.0/(scale**(num-1))/rescale))\n",
    "    curpatch = patch\n",
    "    for ndx in range(num-1):\n",
    "        sz = curpatch.shape\n",
    "        crop = int((1-1.0/scale)/2*sz[0])\n",
    "#         print(ndx,crop)\n",
    "        \n",
    "        spatch = curpatch[crop:-crop,crop:-crop,:]\n",
    "        curpatch = spatch\n",
    "        sfactor = 1.0/(scale**(num-ndx-2))/rescale\n",
    "        tpatch = scipy.misc.imresize(spatch,sfactor,)\n",
    "        patches.append(tpatch[:,:,0])\n",
    "    return patches\n"
   ]
  },
  {
   "cell_type": "code",
   "execution_count": null,
   "metadata": {
    "collapsed": true
   },
   "outputs": [],
   "source": [
    "def readLMDB(cursor,num,imsz,dataMod):\n",
    "#     imsz = conf.imsz\n",
    "    images = np.zeros((num,1,imsz[0],imsz[1]))\n",
    "    locs = []\n",
    "    datum = caffe.proto.caffe_pb2.Datum()\n",
    "\n",
    "#     print(images.shape)\n",
    "    for ndx in range(num):\n",
    "        if not cursor.next():\n",
    "            cursor.first()\n",
    "#             print('restarting at %d' % ndx)\n",
    "            \n",
    "        value = cursor.value()\n",
    "        key = cursor.key()\n",
    "        datum.ParseFromString(value)\n",
    "        expname,curloc,t = dataMod.decodeID(cursor.key())\n",
    "\n",
    "        curlabel = datum.label\n",
    "        data = caffe.io.datum_to_array(datum)\n",
    "        images[ndx,0,:,:] = data.squeeze()\n",
    "        locs.append(curloc)\n",
    "    return images,locs\n",
    "\n"
   ]
  },
  {
   "cell_type": "code",
   "execution_count": null,
   "metadata": {
    "collapsed": true
   },
   "outputs": [],
   "source": [
    "def blurLabel(imsz,loc,scale,blur_rad):\n",
    "    sz0 = int(math.ceil(float(imsz[0])/scale))\n",
    "    sz1 = int(math.ceil(float(imsz[1])/scale))\n",
    "\n",
    "    label = np.zeros([sz0,sz1])\n",
    "    if not np.isnan(loc[0]):\n",
    "        label[int(loc[0]/scale),int(loc[1]/scale)] = 1\n",
    "        blurL = ndimage.gaussian_filter(label,blur_rad/scale)\n",
    "        blurL = blurL/blurL.max()\n",
    "    else:\n",
    "        blurL = label\n",
    "    return blurL"
   ]
  },
  {
   "cell_type": "code",
   "execution_count": null,
   "metadata": {
    "collapsed": true
   },
   "outputs": [],
   "source": [
    "def scaleImages(img,scale):\n",
    "    sz = img.shape\n",
    "    simg = np.zeros((sz[0],sz[1]/scale,sz[2]/scale,sz[3]))\n",
    "    for ndx in range(sz[0]):\n",
    "        for chn in range(sz[3]):\n",
    "            simg[ndx,:,:,chn] = misc.imresize(img[ndx,:,:,chn],1./scale)\n",
    "    return simg\n",
    "\n",
    "def multiScaleImages(inImg,rescale,scale):\n",
    "    x0_in = scaleImages(inImg,rescale)\n",
    "    x1_in = scaleImages(x0_in,scale)\n",
    "    x2_in = scaleImages(x1_in,scale)\n",
    "    return x0_in,x1_in,x2_in\n"
   ]
  },
  {
   "cell_type": "code",
   "execution_count": null,
   "metadata": {
    "collapsed": true
   },
   "outputs": [],
   "source": [
    "def createLabelImages(locs,imsz,scale,blur_rad):\n",
    "    n_classes = len(locs[0])\n",
    "    sz0 = int(math.ceil(float(imsz[0])/scale))\n",
    "    sz1 = int(math.ceil(float(imsz[1])/scale))\n",
    "\n",
    "    labelims = np.zeros((len(locs),sz0,sz1,n_classes))\n",
    "    for cls in range(n_classes):\n",
    "        for ndx in range(len(locs)):\n",
    "            modlocs = [locs[ndx][cls][1],locs[ndx][cls][0]]\n",
    "            labelims[ndx,:,:,cls] = blurLabel(imsz,modlocs,scale,blur_rad)\n",
    " \n",
    "    labelims = 2.0*(labelims-0.5)\n",
    "    return labelims"
   ]
  }
 ],
 "metadata": {
  "kernelspec": {
   "display_name": "Python 2",
   "language": "python",
   "name": "python2"
  },
  "language_info": {
   "codemirror_mode": {
    "name": "ipython",
    "version": 2
   },
   "file_extension": ".py",
   "mimetype": "text/x-python",
   "name": "python",
   "nbconvert_exporter": "python",
   "pygments_lexer": "ipython2",
   "version": "2.7.6"
  }
 },
 "nbformat": 4,
 "nbformat_minor": 0
}
