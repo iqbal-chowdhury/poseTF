{
 "cells": [
  {
   "cell_type": "code",
   "execution_count": null,
   "metadata": {
    "collapsed": true
   },
   "outputs": [],
   "source": [
    "import os\n",
    "\n",
    "name = 'janLeg'\n",
    "split = True\n",
    "scale = 2\n",
    "rescale = 1\n",
    "numscale = 3\n",
    "pool_scale = 4\n",
    "cropsz = 0\n",
    "\n",
    "# sel_sz determines the patch size used for the final decision\n",
    "# i.e., patch seen by the fc6 layer\n",
    "# ideally as large as possible but limited by\n",
    "# a) gpu memory size\n",
    "# b) overfitting due to large number of variables.\n",
    "sel_sz = 512/2\n",
    "psz = sel_sz/(scale**(numscale-1))/rescale\n",
    "\n",
    "imsz = (256,256)\n",
    "cachedir = '/home/mayank/work/tensorflow/cache' + name + '/'\n",
    "labelfile = '/home/mayank/work/tensorflow/janLegTracking/janLegData_20160203.mat'\n",
    "viddir = '/home/mayank/Dropbox/PoseEstimation/JanLegTracking'\n",
    "ptn = '.*'\n",
    "trainfilename = 'train_lmdb'\n",
    "valfilename = 'val_lmdb'\n",
    "\n",
    "valdatafilename = 'valdata'\n",
    "valratio = 0.3\n",
    "\n",
    "dist2pos = 5\n",
    "label_blur_rad = 3.\n",
    "\n",
    "view = 0\n",
    "\n",
    "learning_rate = 0.0001\n",
    "training_iters = 20000\n",
    "batch_size = 16\n",
    "display_step = 30\n",
    "\n",
    "# Network Parameters\n",
    "n_classes = 4 # \n",
    "dropout = 0.5 # Dropout, probability to keep units\n",
    "nfilt = 128\n",
    "nfcfilt = 512\n",
    "\n",
    "map_size = 100000*psz**2*3\n",
    "\n",
    "outname = name\n",
    "save_step = 4000\n",
    "numTest = 400\n",
    "\n",
    "def getexpname(dirname):\n",
    "    expname = os.path.basename(dirname)\n",
    "    return expname\n",
    "\n",
    "def getexplist(L):\n",
    "    fname = 'vid{:d}files'.format(view+1)\n",
    "    return L[fname]"
   ]
  }
 ],
 "metadata": {
  "kernelspec": {
   "display_name": "Python 2",
   "language": "python",
   "name": "python2"
  },
  "language_info": {
   "codemirror_mode": {
    "name": "ipython",
    "version": 2
   },
   "file_extension": ".py",
   "mimetype": "text/x-python",
   "name": "python",
   "nbconvert_exporter": "python",
   "pygments_lexer": "ipython2",
   "version": "2.7.6"
  }
 },
 "nbformat": 4,
 "nbformat_minor": 0
}
