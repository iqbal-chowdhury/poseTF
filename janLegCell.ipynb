{
 "cells": [
  {
   "cell_type": "code",
   "execution_count": 2,
   "metadata": {
    "collapsed": false
   },
   "outputs": [
    {
     "name": "stdout",
     "output_type": "stream",
     "text": [
      "<HDF5 dataset \"pts\": shape (5348, 4, 1, 2), type \"<f8\">\n"
     ]
    }
   ],
   "source": [
    "import h5py\n",
    "import numpy as np\n",
    "L = h5py.File(conf.labelfile)\n",
    "print(L['pts'])\n",
    "\n",
    "# jj = np.array(L['pts'])"
   ]
  },
  {
   "cell_type": "code",
   "execution_count": 3,
   "metadata": {
    "collapsed": false,
    "scrolled": true
   },
   "outputs": [
    {
     "name": "stdout",
     "output_type": "stream",
     "text": [
      "Done 0 of 13 movies, count:583 val:0\n",
      "Done 1 of 13 movies, count:1747 val:0\n",
      "Done 2 of 13 movies, count:1747 val:168\n",
      "Done 3 of 13 movies, count:2014 val:168\n",
      "Done 4 of 13 movies, count:3395 val:168\n",
      "Done 5 of 13 movies, count:4118 val:168\n",
      "Done 6 of 13 movies, count:4652 val:168\n",
      "Done 7 of 13 movies, count:4652 val:1042\n",
      "Done 8 of 13 movies, count:4869 val:1042\n",
      "Done 9 of 13 movies, count:4869 val:1904\n",
      "Done 10 of 13 movies, count:5225 val:1904\n",
      "Done 11 of 13 movies, count:5636 val:1904\n",
      "Done 12 of 13 movies, count:7009 val:1904\n",
      "7009,1904 number of pos examples added to the db and valdb\n"
     ]
    }
   ],
   "source": [
    "import janLegConfig as conf\n",
    "reload(conf)\n",
    "import multiResData\n",
    "reload(multiResData)\n",
    "\n",
    "multiResData.createDB(conf)"
   ]
  },
  {
   "cell_type": "code",
   "execution_count": 2,
   "metadata": {
    "collapsed": true
   },
   "outputs": [],
   "source": [
    "from janLegConfig import conf as conf\n",
    "import pickle\n",
    "\n",
    "with open(conf.cachedir + '/' + conf.valdatafilename,'r') as f:\n",
    "    isval,localdirs,seldirs = pickle.load(f)\n",
    "    "
   ]
  },
  {
   "cell_type": "code",
   "execution_count": 16,
   "metadata": {
    "collapsed": false
   },
   "outputs": [
    {
     "data": {
      "text/plain": [
       "u'/JanLegTracking/150723_2_002_4_C001H001S0001/150723_2_002_4_C001H001S0001.avi'"
      ]
     },
     "execution_count": 16,
     "metadata": {},
     "output_type": "execute_result"
    }
   ],
   "source": [
    "localdirs[0][35:]"
   ]
  },
  {
   "cell_type": "code",
   "execution_count": 21,
   "metadata": {
    "collapsed": false
   },
   "outputs": [],
   "source": [
    "import re\n",
    "\n",
    "newlocaldirs = []\n",
    "for dd in localdirs:\n",
    "    if re.search('Tracking_KAJ',dd):\n",
    "        newlocaldirs.append('/home/mayank/work/PoseEstimationData/JanLegTracking/' + dd[34:])\n",
    "    else:\n",
    "        newlocaldirs.append('/home/mayank/work/PoseEstimationData/' + dd[36:])\n",
    "with open(conf.cachedir + '/valdata','wb') as f:\n",
    "    pickle.dump([isval,newlocaldirs,seldirs],f)"
   ]
  },
  {
   "cell_type": "code",
   "execution_count": 1,
   "metadata": {
    "collapsed": false
   },
   "outputs": [
    {
     "name": "stdout",
     "output_type": "stream",
     "text": [
      "Done 2 of 13 movies, train:0 test:168\n",
      "Done 7 of 13 movies, train:874 test:168\n",
      "Done 9 of 13 movies, train:1736 test:168\n",
      "1736,168 number of pos examples added to the train db and test db\n"
     ]
    },
    {
     "name": "stderr",
     "output_type": "stream",
     "text": [
      "/home/mayank/work/caffe/python/caffe/pycaffe.py:13: RuntimeWarning: to-Python converter for boost::shared_ptr<caffe::Net<float> > already registered; second conversion method ignored.\n",
      "  from ._caffe import Net, SGDSolver, NesterovSolver, AdaGradSolver, \\\n",
      "/home/mayank/work/caffe/python/caffe/pycaffe.py:13: RuntimeWarning: to-Python converter for boost::shared_ptr<caffe::Blob<float> > already registered; second conversion method ignored.\n",
      "  from ._caffe import Net, SGDSolver, NesterovSolver, AdaGradSolver, \\\n",
      "/home/mayank/work/caffe/python/caffe/pycaffe.py:13: RuntimeWarning: to-Python converter for boost::shared_ptr<caffe::Solver<float> > already registered; second conversion method ignored.\n",
      "  from ._caffe import Net, SGDSolver, NesterovSolver, AdaGradSolver, \\\n"
     ]
    }
   ],
   "source": [
    "from janLegConfig import conf as conf\n",
    "import multiResData\n",
    "multiResData.createHoldoutData(conf)"
   ]
  },
  {
   "cell_type": "code",
   "execution_count": null,
   "metadata": {
    "collapsed": true
   },
   "outputs": [],
   "source": [
    "from janLegConfig import conf\n",
    "import multiResData"
   ]
  }
 ],
 "metadata": {
  "kernelspec": {
   "display_name": "Python 2",
   "language": "python",
   "name": "python2"
  },
  "language_info": {
   "codemirror_mode": {
    "name": "ipython",
    "version": 2
   },
   "file_extension": ".py",
   "mimetype": "text/x-python",
   "name": "python",
   "nbconvert_exporter": "python",
   "pygments_lexer": "ipython2",
   "version": "2.7.6"
  }
 },
 "nbformat": 4,
 "nbformat_minor": 0
}
