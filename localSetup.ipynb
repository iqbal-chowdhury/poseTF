{
 "cells": [
  {
   "cell_type": "code",
   "execution_count": 2,
   "metadata": {
    "collapsed": false
   },
   "outputs": [],
   "source": [
    "import socket\n",
    "import sys,re\n",
    "\n",
    "if re.search('verman-ws1.janelia.priv',socket.gethostname()):\n",
    "    sys.path.append('/groups/branson/home/kabram/bransonlab/pose_estimation/caffe/python')\n",
    "    bdir = '/localhome/kabram/poseTF/'\n",
    "elif re.search('bransonk-ws9.hhmi.org',socket.gethostname()):\n",
    "    sys.path.append('/groups/branson/home/kabram/bransonlab/pose_estimation/caffe/python')\n",
    "    bdir = '/groups/branson/bransonlab/mayank/PoseTF/'\n",
    "else:\n",
    "    sys.path.append('/home/mayank/work/caffe/python')\n",
    "    bdir = '/home/mayank/work/poseEstimation/'\n",
    "\n"
   ]
  }
 ],
 "metadata": {
  "kernelspec": {
   "display_name": "Python 2",
   "language": "python",
   "name": "python2"
  },
  "language_info": {
   "codemirror_mode": {
    "name": "ipython",
    "version": 2
   },
   "file_extension": ".py",
   "mimetype": "text/x-python",
   "name": "python",
   "nbconvert_exporter": "python",
   "pygments_lexer": "ipython2",
   "version": "2.7.6"
  }
 },
 "nbformat": 4,
 "nbformat_minor": 0
}
