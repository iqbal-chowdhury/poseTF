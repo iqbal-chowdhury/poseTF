{
 "cells": [
  {
   "cell_type": "code",
   "execution_count": 2,
   "metadata": {
    "collapsed": false
   },
   "outputs": [],
   "source": [
    "import socket\n",
    "import sys,re\n",
    "\n",
    "if re.search('janelia.priv',socket.gethostname()):\n",
    "    sys.path.append('/groups/branson/home/kabram/bransonlab/pose_estimation/caffe/python')\n",
    "    sys.path.append('/groups/branson/home/kabram/bransonlab/pyutils')\n",
    "else:\n",
    "    sys.path.append('/home/mayank/work/caffe/python')\n",
    "    sys.path.append('/home/mayank/work/pyutils')\n",
    "\n"
   ]
  }
 ],
 "metadata": {
  "kernelspec": {
   "display_name": "Python 2",
   "language": "python",
   "name": "python2"
  },
  "language_info": {
   "codemirror_mode": {
    "name": "ipython",
    "version": 2
   },
   "file_extension": ".py",
   "mimetype": "text/x-python",
   "name": "python",
   "nbconvert_exporter": "python",
   "pygments_lexer": "ipython2",
   "version": "2.7.6"
  }
 },
 "nbformat": 4,
 "nbformat_minor": 0
}
