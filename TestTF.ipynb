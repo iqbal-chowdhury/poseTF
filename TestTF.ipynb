{
 "cells": [
  {
   "cell_type": "code",
   "execution_count": 1,
   "metadata": {
    "collapsed": false,
    "scrolled": true
   },
   "outputs": [
    {
     "name": "stdout",
     "output_type": "stream",
     "text": [
      "(1, 128, 128, 3)\n"
     ]
    }
   ],
   "source": [
    "import tensorflow as tf\n",
    "\n",
    "import os\n",
    "import sys\n",
    "caffenetpath = '/home/mayank/work/tensorflow/caffe-tensorflow'\n",
    "sys.path.append(caffenetpath)\n",
    "import pawCaffe\n",
    "# import caffenet\n",
    "\n",
    "from scipy import misc\n",
    "import numpy as np\n",
    "jj = misc.imread('/home/mayank/work/quackNN/cache/images/im_1.png')\n",
    "\n",
    "# import matplotlib.pyplot as plt\n",
    "# plt.imshow(jj)\n",
    "# plt.show()\n",
    "\n",
    "\n",
    "jj = np.reshape(jj,[1,128,128,3])\n",
    "print(jj.shape)\n",
    "# kk = tf.convert_to_tensor(jj,dtype = np.float32)\n",
    "# kk.get_shape()\n",
    "\n",
    "vv = tf.placeholder(\"float\",shape=[1,128,128,3])\n",
    "gg = tf.placeholder(\"float\",shape=[1,2])\n",
    "\n",
    "net = pawCaffe.TrainValNet({'data':vv})\n",
    "# ll = misc.imresize(jj,[256 ,256])\n",
    "# kk = tf.convert_to_tensor(ll,dtype = np.float32)\n",
    "pred = net.get_output()\n",
    "cost = tf.reduce_mean(tf.nn.softmax_cross_entropy_with_logits(pred, gg))\n",
    "\n"
   ]
  },
  {
   "cell_type": "code",
   "execution_count": 2,
   "metadata": {
    "collapsed": false,
    "scrolled": true
   },
   "outputs": [
    {
     "name": "stdout",
     "output_type": "stream",
     "text": [
      "conv1/weights:0\n",
      "[<tensorflow.python.framework.ops.Tensor object at 0x7f2dfd2b52d0>]\n",
      "4\n"
     ]
    }
   ],
   "source": [
    "kk = jj.astype('float')-33\n",
    "labels = np.array([[0,1]])\n",
    "zz= tf.all_variables()\n",
    "print(zz[0].name)\n",
    "ii = tf.gradients(cost,zz[0])\n",
    "print(ii)\n",
    "with tf.Session() as sesh:\n",
    "    net.load('/home/mayank/work/tensorflow/caffe-tensorflow/pawCaffe.npy',sesh)\n",
    "    output = sesh.run([cost,\n",
    "                       net.layers['conv1'],\n",
    "                       net.layers['pool1'],\n",
    "                       ii[0]],\n",
    "                       feed_dict={vv:kk,gg:labels})\n",
    "print(len(output))"
   ]
  },
  {
   "cell_type": "code",
   "execution_count": 3,
   "metadata": {
    "collapsed": false
   },
   "outputs": [
    {
     "data": {
      "text/plain": [
       "array([ 0.31326166], dtype=float32)"
      ]
     },
     "execution_count": 3,
     "metadata": {},
     "output_type": "execute_result"
    }
   ],
   "source": [
    "tt1 = tf.placeholder('float',shape=[1,2])\n",
    "tt2 = tf.placeholder('float',shape=[1,2])\n",
    "costt = tf.nn.softmax_cross_entropy_with_logits(tt1,tt2)\n",
    "labelst = np.array([[0.,1.]])\n",
    "predt = np.array([[0.,1.]])\n",
    "with tf.Session() as sesh:\n",
    "    outt = sesh.run(costt,feed_dict={tt1:predt,tt2:labelst})\n",
    "\n",
    "outt    \n"
   ]
  }
 ],
 "metadata": {
  "kernelspec": {
   "display_name": "Python 2",
   "language": "python",
   "name": "python2"
  },
  "language_info": {
   "codemirror_mode": {
    "name": "ipython",
    "version": 2
   },
   "file_extension": ".py",
   "mimetype": "text/x-python",
   "name": "python",
   "nbconvert_exporter": "python",
   "pygments_lexer": "ipython2",
   "version": "2.7.6"
  }
 },
 "nbformat": 4,
 "nbformat_minor": 0
}
