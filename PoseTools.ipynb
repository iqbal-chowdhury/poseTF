{
 "cells": [
  {
   "cell_type": "code",
   "execution_count": null,
   "metadata": {
    "collapsed": true
   },
   "outputs": [],
   "source": [
    "import numpy as np\n",
    "import scipy,re\n",
    "import math,h5py\n",
    "# import caffe\n",
    "from scipy import misc\n",
    "from scipy import ndimage\n",
    "import tensorflow as tf\n",
    "import multiResData\n",
    "import tempfile\n",
    "import cv2\n",
    "import PoseTrain\n",
    "import localSetup\n",
    "import myutils\n",
    "import os\n",
    "import cv2\n",
    "from cvc import cvc\n",
    "import math\n",
    "import sys\n",
    "import copy\n",
    "import matplotlib as mpl\n",
    "import matplotlib.pyplot as plt\n",
    "from matplotlib import cm\n",
    "from matplotlib.backends.backend_agg import FigureCanvasAgg"
   ]
  },
  {
   "cell_type": "code",
   "execution_count": null,
   "metadata": {
    "collapsed": true
   },
   "outputs": [],
   "source": [
    "# not used anymore\n",
    "# def scalepatches(patch,scale,num,rescale,cropsz):\n",
    "#     sz = patch.shape\n",
    "#     assert sz[0]%( (scale**(num-1))*rescale) is 0,\"patch size isn't divisible by scale\"\n",
    "    \n",
    "#     patches = []\n",
    "#     patches.append(scipy.misc.imresize(patch[:,:,0],1.0/(scale**(num-1))/rescale))\n",
    "#     curpatch = patch\n",
    "#     for ndx in range(num-1):\n",
    "#         sz = curpatch.shape\n",
    "#         crop = int((1-1.0/scale)/2*sz[0])\n",
    "# #         print(ndx,crop)\n",
    "        \n",
    "#         spatch = curpatch[crop:-crop,crop:-crop,:]\n",
    "#         curpatch = spatch\n",
    "#         sfactor = 1.0/(scale**(num-ndx-2))/rescale\n",
    "#         tpatch = scipy.misc.imresize(spatch,sfactor,)\n",
    "#         patches.append(tpatch[:,:,0])\n",
    "#     return patches"
   ]
  },
  {
   "cell_type": "code",
   "execution_count": null,
   "metadata": {
    "collapsed": true
   },
   "outputs": [],
   "source": [
    "def scaleImages(img,scale):\n",
    "    sz = img.shape\n",
    "    simg = np.zeros((sz[0],sz[1]/scale,sz[2]/scale,sz[3]))\n",
    "    for ndx in range(sz[0]):\n",
    "        for chn in range(sz[3]):\n",
    "            simg[ndx,:,:,chn] = misc.imresize(img[ndx,:,:,chn],1./scale)\n",
    "\n",
    "#     return simg\n",
    "    zz = simg.astype('float')\n",
    "    mm = zz.mean(1).mean(1)\n",
    "    xx = zz-mm[:,np.newaxis,np.newaxis,:]\n",
    "    return xx\n",
    "\n",
    "def multiScaleImages(inImg, rescale, scale, l1_cropsz):\n",
    "    # only crop the highest res image\n",
    "    if l1_cropsz > 0:\n",
    "        inImg_crop = inImg[:,l1_cropsz:-l1_cropsz,l1_cropsz:-l1_cropsz,:]\n",
    "    else:\n",
    "        inImg_crop = inImg\n",
    "            \n",
    "    x0_in = scaleImages(inImg_crop,rescale)\n",
    "    x1_in = scaleImages(inImg,rescale*scale)\n",
    "    x2_in = scaleImages(x1_in,scale)\n",
    "    return x0_in,x1_in,x2_in\n"
   ]
  },
  {
   "cell_type": "code",
   "execution_count": null,
   "metadata": {
    "collapsed": true
   },
   "outputs": [],
   "source": [
    "def processImage(framein,conf):\n",
    "#     cropx = (framein.shape[0] - conf.imsz[0])/2\n",
    "#     cropy = (framein.shape[1] - conf.imsz[1])/2\n",
    "#     if cropx > 0:\n",
    "#         framein = framein[cropx:-cropx,:,:]\n",
    "#     if cropy > 0:\n",
    "#         framein = framein[:,cropy:-cropy,:]\n",
    "    framein = cropImages(framein,conf)\n",
    "    framein = framein[np.newaxis,:,:,0:1]\n",
    "    x0,x1,x2 = multiScaleImages(framein, conf.rescale,  conf.scale, conf.l1_cropsz)\n",
    "    return x0,x1,x2\n",
    "    "
   ]
  },
  {
   "cell_type": "code",
   "execution_count": null,
   "metadata": {
    "collapsed": true
   },
   "outputs": [],
   "source": [
    "def cropImages(framein,conf):\n",
    "    cshape = tuple(framein.shape[0:2])\n",
    "    start = conf.cropLoc[cshape]  # cropLoc[0] should be for y.\n",
    "    end = [conf.imsz[ndx] + start[ndx] for ndx in range(2)]\n",
    "    return framein[start[0]:end[0],start[1]:end[1],:]"
   ]
  },
  {
   "cell_type": "code",
   "execution_count": null,
   "metadata": {
    "collapsed": true
   },
   "outputs": [],
   "source": [
    "# def readLMDB(cursor,num,imsz,dataMod):\n",
    "# #     imsz = conf.imsz\n",
    "#     images = np.zeros((num,1,imsz[0],imsz[1]))\n",
    "#     locs = []\n",
    "#     datum = caffe.proto.caffe_pb2.Datum()\n",
    "\n",
    "# #     print(images.shape)\n",
    "#     for ndx in range(num):\n",
    "#         if not cursor.next():\n",
    "#             cursor.first()\n",
    "# #             print('restarting at %d' % ndx)\n",
    "            \n",
    "#         value = cursor.value()\n",
    "#         key = cursor.key()\n",
    "#         datum.ParseFromString(value)\n",
    "#         expname,curloc,t = dataMod.decodeID(cursor.key())\n",
    "\n",
    "#         curlabel = datum.label\n",
    "#         data = caffe.io.datum_to_array(datum)\n",
    "#         images[ndx,0,:,:] = data.squeeze()\n",
    "#         locs.append(curloc)\n",
    "#     return images,locs\n",
    "\n"
   ]
  },
  {
   "cell_type": "code",
   "execution_count": 1,
   "metadata": {
    "collapsed": true
   },
   "outputs": [],
   "source": [
    "def randomlyFlipLR(img,locs):\n",
    "    num = img.shape[0]\n",
    "    for ndx in range(num):\n",
    "        jj = np.random.randint(2)\n",
    "        if jj>0.5:\n",
    "            img[ndx,...] = img[ndx,:,:,::-1]\n",
    "            locs[ndx,:,0] = img.shape[3]-locs[ndx,:,0]\n",
    "    return img,locs"
   ]
  },
  {
   "cell_type": "code",
   "execution_count": 1,
   "metadata": {
    "collapsed": true
   },
   "outputs": [],
   "source": [
    "def randomlyFlipUD(img,locs):\n",
    "    num = img.shape[0]\n",
    "    for ndx in range(num):\n",
    "        jj = np.random.randint(2)\n",
    "        if jj>0.5:\n",
    "            img[ndx,...] = img[ndx,:,::-1,:]\n",
    "            locs[ndx,:,1] = img.shape[2]-locs[ndx,:,1]\n",
    "    return img,locs"
   ]
  },
  {
   "cell_type": "code",
   "execution_count": 2,
   "metadata": {
    "collapsed": true
   },
   "outputs": [],
   "source": [
    "def randomlyRotate(img,locs,conf):\n",
    "    if conf.rrange<1:\n",
    "        return img,locs\n",
    "    num = img.shape[0]\n",
    "    rows,cols = img.shape[2:]\n",
    "    for ndx in range(num):\n",
    "        rangle = (np.random.rand()*2-1)*conf.rrange\n",
    "        ii = copy.deepcopy(img[ndx,...]).transpose([1,2,0])\n",
    "        M = cv2.getRotationMatrix2D((cols/2,rows/2),rangle,1)\n",
    "        ii = cv2.warpAffine(ii,M,(cols,rows))\n",
    "        if ii.ndim==2:\n",
    "            ii = ii[...,np.newaxis]\n",
    "        ii = ii.transpose([2,0,1])\n",
    "        img[ndx,...] = ii\n",
    "        ll = copy.deepcopy(locs[ndx,...])\n",
    "        ll = ll - [cols/2,rows/2]\n",
    "        ang = np.deg2rad(rangle)\n",
    "        R = [[np.cos(ang),-np.sin(ang)],[np.sin(ang),np.cos(ang)]]\n",
    "        lr = np.dot(ll,R) + [cols/2,rows/2]\n",
    "        locs[ndx,...] = lr\n",
    "        \n",
    "    return img,locs"
   ]
  },
  {
   "cell_type": "code",
   "execution_count": 1,
   "metadata": {
    "collapsed": true
   },
   "outputs": [],
   "source": [
    "def randomlyAdjust(img,conf):\n",
    "    # For images between 0 to 255 \n",
    "    # and single channel\n",
    "    num = img.shape[0]\n",
    "    brange = conf.brange\n",
    "    bdiff = brange[1]-brange[0]\n",
    "    crange = conf.crange\n",
    "    cdiff = crange[1]-crange[0]\n",
    "    for ndx in range(num):\n",
    "        mm = img[ndx,...].mean()\n",
    "        bfactor = np.random.rand()*bdiff + brange[0]\n",
    "        jj = img[ndx,...] + bfactor*255.0\n",
    "        cfactor = np.random.rand()*cdiff + crange[0]\n",
    "        jj = np.minimum(255,(jj-mm)*cfactor+mm)\n",
    "        jj = jj.clip(0,255)\n",
    "        img[ndx,...] = jj\n",
    "    return img"
   ]
  },
  {
   "cell_type": "code",
   "execution_count": null,
   "metadata": {
    "collapsed": true
   },
   "outputs": [],
   "source": [
    "# def readOnceLMDB(cursor,num,imsz,dataMod,reset=False):\n",
    "#     images = np.zeros((0,1,imsz[0],imsz[1]))\n",
    "#     locs = []\n",
    "#     datum = caffe.proto.caffe_pb2.Datum()\n",
    "    \n",
    "#     if reset:\n",
    "#         cursor.first()\n",
    "        \n",
    "#     done = False\n",
    "#     for ndx in range(num):\n",
    "#         if not cursor.next():\n",
    "#             done = True\n",
    "#             break\n",
    "            \n",
    "#         value = cursor.value()\n",
    "#         key = cursor.key()\n",
    "#         datum.ParseFromString(value)\n",
    "#         expname,curloc,t = dataMod.decodeID(cursor.key())\n",
    "\n",
    "#         curlabel = datum.label\n",
    "#         data = caffe.io.datum_to_array(datum)\n",
    "#         images = np.append(images,data.squeeze()[np.newaxis,:,:],0)\n",
    "#         locs.append(curloc)\n",
    "#     return images,locs,done\n",
    "\n"
   ]
  },
  {
   "cell_type": "code",
   "execution_count": null,
   "metadata": {
    "collapsed": true
   },
   "outputs": [],
   "source": [
    "def blurLabel(imsz,loc,scale,blur_rad):\n",
    "    sz0 = int(math.ceil(float(imsz[0])/scale))\n",
    "    sz1 = int(math.ceil(float(imsz[1])/scale))\n",
    "\n",
    "    label = np.zeros([sz0,sz1])\n",
    "    if not np.isnan(loc[0]):\n",
    "        label[int(loc[0]/scale),int(loc[1]/scale)] = 1\n",
    "        blurL = ndimage.gaussian_filter(label,blur_rad)\n",
    "        blurL = blurL/blurL.max()\n",
    "    else:\n",
    "        blurL = label\n",
    "    return blurL"
   ]
  },
  {
   "cell_type": "code",
   "execution_count": null,
   "metadata": {
    "collapsed": true
   },
   "outputs": [],
   "source": [
    "def createLabelImages(locs,imsz,scale,blur_rad):\n",
    "    n_classes = len(locs[0])\n",
    "    sz0 = int(math.ceil(float(imsz[0])/scale))\n",
    "    sz1 = int(math.ceil(float(imsz[1])/scale))\n",
    "\n",
    "    labelims = np.zeros((len(locs),sz0,sz1,n_classes))\n",
    "    for cls in range(n_classes):\n",
    "        for ndx in range(len(locs)):\n",
    "            modlocs = [locs[ndx][cls][1],locs[ndx][cls][0]]\n",
    "            labelims[ndx,:,:,cls] = blurLabel(imsz,modlocs,scale,blur_rad)\n",
    " \n",
    "    labelims = 2.0*(labelims-0.5)\n",
    "    return labelims"
   ]
  },
  {
   "cell_type": "code",
   "execution_count": null,
   "metadata": {
    "collapsed": true
   },
   "outputs": [],
   "source": [
    "def createRegLabelImages(locs,imsz,scale,blur_rad):\n",
    "    n_classes = len(locs[0])\n",
    "    sz0 = int(math.ceil(float(imsz[0])/scale))\n",
    "    sz1 = int(math.ceil(float(imsz[1])/scale))\n",
    "\n",
    "    labelims = np.zeros((len(locs),sz0,sz1,n_classes))\n",
    "    regimsx = np.zeros((len(locs),sz0,sz1,n_classes))\n",
    "    regimsy = np.zeros((len(locs),sz0,sz1,n_classes))\n",
    "    for cls in range(n_classes):\n",
    "        for ndx in range(len(locs)):\n",
    "            x,y = np.meshgrid(np.arange(sz0),np.arange(sz1))\n",
    "            modlocs = [locs[ndx][cls][1],locs[ndx][cls][0]]\n",
    "            labelims[ndx,:,:,cls] = blurLabel(imsz,modlocs,scale,blur_rad)\n",
    "            \n",
    "#             np.sqrt((x-(round(locs[ndx][cls][0]/scale)))**2 + \n",
    "#                                (y-(round(locs[ndx][cls][1]/scale)))**2) < (rad-1)\n",
    "#             xmin = int(max(round((locs[ndx][cls][0])/scale - rad),0))\n",
    "#             xmax = int(min(round((locs[ndx][cls][0])/scale + rad),sz0))\n",
    "#             ymin = int(max(round((locs[ndx][cls][1])/scale - rad),0))\n",
    "#             ymax = int(min(round((locs[ndx][cls][1])/scale + rad),sz0))\n",
    "#             labelims[ndx,ymin:ymax,xmin:xmax,cls] = 1.\n",
    "            tx,ty = np.meshgrid(np.arange(sz0)*scale,np.arange(sz1)*scale)\n",
    "            tregx = tx.astype('float64')\n",
    "            tregy = ty.astype('float64')\n",
    "            tregx = locs[ndx][cls][0] -1 - tregx\n",
    "            tregy = locs[ndx][cls][1] -1 - tregy\n",
    "            regimsx[ndx,:,:,cls] = tregx\n",
    "            regimsy[ndx,:,:,cls] = tregy\n",
    "            \n",
    "    labelims = 2.0*(labelims-0.5)\n",
    "    return labelims,regimsx,regimsy"
   ]
  },
  {
   "cell_type": "code",
   "execution_count": null,
   "metadata": {
    "collapsed": true
   },
   "outputs": [],
   "source": [
    "def createFineLabelTensor(conf):\n",
    "    tsz = int(conf.fine_sz + 2*6*math.ceil(conf.fine_label_blur_rad))\n",
    "    timg = np.zeros((tsz,tsz))\n",
    "    timg[tsz/2,tsz/2] = 1\n",
    "    blurL = ndimage.gaussian_filter(timg,conf.fine_label_blur_rad)\n",
    "    blurL = blurL/blurL.max()\n",
    "    blurL = 2.0*(blurL-0.5)\n",
    "    return tf.constant(blurL)\n"
   ]
  },
  {
   "cell_type": "code",
   "execution_count": null,
   "metadata": {
    "collapsed": true
   },
   "outputs": [],
   "source": [
    "def extractFineLabelTensor(labelT,sz,dd,fsz):\n",
    "    return tf.slice(labelT,dd+sz/2-fsz/2,[fsz,fsz])"
   ]
  },
  {
   "cell_type": "code",
   "execution_count": null,
   "metadata": {
    "collapsed": true
   },
   "outputs": [],
   "source": [
    "def createFineLabelImages(locs,pred,conf,labelT):\n",
    "    maxlocs = argmax2d(pred)*conf.pool_scale\n",
    "    tsz = int(conf.fine_sz + 2*6*math.ceil(conf.fine_label_blur_rad))\n",
    "    hsz = conf.fine_sz/2\n",
    "    limgs = []\n",
    "    for inum in range(conf.batch_size):\n",
    "        curlimgs = []\n",
    "        for ndx in range(conf.n_classes):\n",
    "            dx = maxlocs[1,inum,ndx]-tf.to_int32(locs[inum,ndx,0]/conf.rescale)\n",
    "            dy = maxlocs[0,inum,ndx]-tf.to_int32(locs[inum,ndx,1]/conf.rescale)\n",
    "            dd = tf.pack([dx,dy])\n",
    "            dd = tf.maximum(tf.to_int32(hsz-tsz/2),tf.minimum(tf.to_int32(tsz/2-hsz-1),dd))\n",
    "            curlimgs.append(extractFineLabelTensor(labelT,tsz,dd,conf.fine_sz))\n",
    "        limgs.append(tf.pack(curlimgs))\n",
    "    return tf.transpose(tf.pack(limgs),[0,2,3,1])\n"
   ]
  },
  {
   "cell_type": "code",
   "execution_count": null,
   "metadata": {
    "collapsed": true
   },
   "outputs": [],
   "source": [
    "def argmax2d(Xin):\n",
    "    \n",
    "    origShape = tf.shape(Xin)\n",
    "    reshape_t = tf.concat(0,[origShape[0:1],[-1],origShape[3:4]])\n",
    "    zz = tf.reshape(Xin,reshape_t)\n",
    "    pp = tf.to_int32(tf.argmax(zz,1))\n",
    "    sz1 = tf.slice(origShape,[2],[1])\n",
    "    cc1 = tf.div(pp,tf.to_int32(sz1))\n",
    "    cc2 = tf.mod(pp,tf.to_int32(sz1))\n",
    "    \n",
    "    return tf.pack([cc1,cc2])"
   ]
  },
  {
   "cell_type": "code",
   "execution_count": null,
   "metadata": {
    "collapsed": true
   },
   "outputs": [],
   "source": [
    "def getBasePredLocs(pred,conf):\n",
    "    predLocs = np.zeros([pred.shape[0],conf.n_classes,2])\n",
    "    for ndx in range(pred.shape[0]):\n",
    "        for cls in range(conf.n_classes):\n",
    "            maxndx = np.argmax(pred[ndx,:,:,cls])\n",
    "            curloc = np.array(np.unravel_index(maxndx,pred.shape[1:3]))\n",
    "            curloc = curloc * conf.pool_scale * conf.rescale\n",
    "            predLocs[ndx,cls,0] = curloc[1]\n",
    "            predLocs[ndx,cls,1] = curloc[0]\n",
    "    return predLocs"
   ]
  },
  {
   "cell_type": "code",
   "execution_count": null,
   "metadata": {
    "collapsed": true
   },
   "outputs": [],
   "source": [
    "def getFinePredLocs(pred,finepred,conf):\n",
    "    predLocs = np.zeros([pred.shape[0],conf.n_classes,2])\n",
    "    finepredLocs = np.zeros([pred.shape[0],conf.n_classes,2])\n",
    "    for ndx in range(pred.shape[0]):\n",
    "        for cls in range(conf.n_classes):\n",
    "            maxndx = np.argmax(pred[ndx,:,:,cls])\n",
    "            curloc = np.array(np.unravel_index(maxndx,pred.shape[1:3]))\n",
    "            curloc = curloc * conf.pool_scale * conf.rescale\n",
    "            predLocs[ndx,cls,0] = curloc[1]\n",
    "            predLocs[ndx,cls,1] = curloc[0]\n",
    "            maxndx = np.argmax(finepred[ndx,:,:,cls])\n",
    "            curfineloc = (np.array(np.unravel_index(maxndx,finepred.shape[1:3]))-conf.fine_sz/2)*conf.rescale\n",
    "            finepredLocs[ndx,cls,0] = curloc[1] + curfineloc[1]\n",
    "            finepredLocs[ndx,cls,1] = curloc[0] + curfineloc[0]\n",
    "    return predLocs,finepredLocs"
   ]
  },
  {
   "cell_type": "code",
   "execution_count": null,
   "metadata": {
    "collapsed": true
   },
   "outputs": [],
   "source": [
    "def getBaseError(locs,pred,conf):\n",
    "    locerr = np.zeros(locs.shape)\n",
    "    for ndx in range(pred.shape[0]):\n",
    "        for cls in range(conf.n_classes):\n",
    "            maxndx = np.argmax(pred[ndx,:,:,cls])\n",
    "            predloc = np.array(np.unravel_index(maxndx,pred.shape[1:3]))\n",
    "            predloc = predloc * conf.pool_scale * conf.rescale\n",
    "            locerr[ndx][cls][0]= float(predloc[1])-locs[ndx][cls][0]\n",
    "            locerr[ndx][cls][1]= float(predloc[0])-locs[ndx][cls][1]\n",
    "    return locerr"
   ]
  },
  {
   "cell_type": "code",
   "execution_count": null,
   "metadata": {
    "collapsed": true
   },
   "outputs": [],
   "source": [
    "def getFineError(locs,pred,finepred,conf):\n",
    "    finelocerr = np.zeros([len(locs),conf.n_classes,2])\n",
    "    baselocerr = np.zeros([len(locs),conf.n_classes,2])\n",
    "    for ndx in range(pred.shape[0]):\n",
    "        for cls in range(conf.n_classes):\n",
    "            maxndx = np.argmax(pred[ndx,:,:,cls])\n",
    "            predloc = np.array(np.unravel_index(maxndx,pred.shape[1:3]))\n",
    "            predloc = predloc * conf.pool_scale * conf.rescale\n",
    "            maxndx = np.argmax(finepred[ndx,:,:,cls])\n",
    "            finepredloc = (np.array(np.unravel_index(maxndx,finepred.shape[1:3]))-conf.fine_sz/2)*conf.rescale\n",
    "            baselocerr[ndx,cls,0]= float(predloc[1])-locs[ndx][cls][0]\n",
    "            baselocerr[ndx,cls,1]= float(predloc[0])-locs[ndx][cls][1]\n",
    "            finelocerr[ndx,cls,0]= float(predloc[1]+finepredloc[1])-locs[ndx][cls][0]\n",
    "            finelocerr[ndx,cls,1]= float(predloc[0]+finepredloc[0])-locs[ndx][cls][1]\n",
    "    return baselocerr,finelocerr"
   ]
  },
  {
   "cell_type": "code",
   "execution_count": null,
   "metadata": {
    "collapsed": true
   },
   "outputs": [],
   "source": [
    "def initMRFweights(conf):\n",
    "    L = h5py.File(conf.labelfile,'r')\n",
    "    pts = np.array(L['pts'])\n",
    "    v = conf.view\n",
    "    dx = np.zeros([pts.shape[0]])\n",
    "    dy = np.zeros([pts.shape[0]])\n",
    "    for ndx in range(pts.shape[0]):\n",
    "        dx[ndx] = pts[ndx,:,v,0].max() - pts[ndx,:,v,0].min()\n",
    "        dy[ndx] = pts[ndx,:,v,1].max() - pts[ndx,:,v,1].min()\n",
    "    maxd = max(dx.max(),dy.max())\n",
    "    psz = int(math.ceil( (maxd*2/conf.rescale)/conf.pool_scale))\n",
    "#     psz = conf.mrf_psz\n",
    "    bfilt = np.zeros([psz,psz,conf.n_classes,conf.n_classes])\n",
    "    \n",
    "    for ndx in range(pts.shape[0]):\n",
    "        for c1 in range(conf.n_classes):\n",
    "            for c2 in range(conf.n_classes):\n",
    "                d12x = pts[ndx,c1,v,0] - pts[ndx,c2,v,0]\n",
    "                d12y = pts[ndx,c1,v,1] - pts[ndx,c2,v,1]\n",
    "                d12x = int( (d12x/conf.rescale)/conf.pool_scale)\n",
    "                d12y = int( (d12y/conf.rescale)/conf.pool_scale)\n",
    "                bfilt[psz/2+d12y,psz/2+d12x,c1,c2] += 1\n",
    "    bfilt = (bfilt/pts.shape[0])\n",
    "    return bfilt"
   ]
  },
  {
   "cell_type": "code",
   "execution_count": null,
   "metadata": {
    "collapsed": true
   },
   "outputs": [],
   "source": [
    "def initMRFweightsIdentity(conf):\n",
    "    L = h5py.File(conf.labelfile)\n",
    "    pts = np.array(L['pts'])\n",
    "    v = conf.view\n",
    "    dx = np.zeros([pts.shape[0]])\n",
    "    dy = np.zeros([pts.shape[0]])\n",
    "    for ndx in range(pts.shape[0]):\n",
    "        dx[ndx] = pts[ndx,:,v,0].max() - pts[ndx,:,v,0].min()\n",
    "        dy[ndx] = pts[ndx,:,v,1].max() - pts[ndx,:,v,1].min()\n",
    "    maxd = max(dx.max(),dy.max())\n",
    "    hsz = int(math.ceil( (maxd*2/conf.rescale)/conf.pool_scale)/2)\n",
    "    psz = hsz*2+1\n",
    "#     psz = conf.mrf_psz\n",
    "    bfilt = np.zeros([psz,psz,conf.n_classes,conf.n_classes])\n",
    "    \n",
    "    for c1 in range(conf.n_classes):\n",
    "        bfilt[hsz,hsz,c1,c1] = 5.\n",
    "    return bfilt"
   ]
  },
  {
   "cell_type": "code",
   "execution_count": null,
   "metadata": {
    "collapsed": true
   },
   "outputs": [],
   "source": [
    "def getvars(vstr):\n",
    "    varlist = tf.all_variables()\n",
    "    blist = []\n",
    "    for var in varlist:\n",
    "        if re.match(vstr,var.name):\n",
    "            blist.append(var)\n",
    "    return blist\n"
   ]
  },
  {
   "cell_type": "code",
   "execution_count": null,
   "metadata": {
    "collapsed": true
   },
   "outputs": [],
   "source": [
    "def compareConf(curconf,oldconf):\n",
    "    ff = dir(curconf)\n",
    "    for f in ff:\n",
    "        if f[0:2] == '__' or f[0:3] == 'get':\n",
    "            continue\n",
    "        if not hasattr(curconf,f) or not hasattr(oldconf,f) or getattr(curconf,f) != getattr(oldconf,f):\n",
    "            print '%s doesnt match'%(f)\n",
    "            "
   ]
  },
  {
   "cell_type": "code",
   "execution_count": null,
   "metadata": {
    "collapsed": true
   },
   "outputs": [],
   "source": [
    "def createNetwork(conf,outtype):\n",
    "    self = PoseTrain.PoseTrain(conf)\n",
    "    self.createPH()\n",
    "    self.createFeedDict()\n",
    "    doBatchNorm = self.conf.doBatchNorm\n",
    "    self.feed_dict[self.ph['phase_train_base']] = False\n",
    "    self.feed_dict[self.ph['phase_train_fine']] = False\n",
    "    self.feed_dict[self.ph['keep_prob']] = 1.\n",
    "    self.feed_dict[self.ph['learning_rate']] = 0\n",
    "    tt = self.ph['y'].get_shape().as_list()\n",
    "    tt[0] = 1\n",
    "    self.feed_dict[self.ph['y']] = np.zeros(tt)\n",
    "    tt = self.ph['locs'].get_shape().as_list()\n",
    "    self.feed_dict[self.ph['locs']] = np.zeros(tt)\n",
    "    \n",
    "    \n",
    "    with tf.variable_scope('base'):\n",
    "        self.createBaseNetwork(doBatchNorm)\n",
    "    self.createBaseSaver()\n",
    "\n",
    "    if outtype > 1:\n",
    "        with tf.variable_scope('mrf'):\n",
    "            self.createMRFNetwork(doBatchNorm)\n",
    "        self.createMRFSaver()\n",
    "\n",
    "    if outtype > 2:\n",
    "        with tf.variable_scope('fine'):\n",
    "            self.createFineNetwork(doBatchNorm)\n",
    "        self.createFineSaver()\n",
    "\n",
    "    return self"
   ]
  },
  {
   "cell_type": "code",
   "execution_count": null,
   "metadata": {
    "collapsed": true
   },
   "outputs": [],
   "source": [
    "def initNetwork(self,sess,outtype):\n",
    "    self.restoreBase(sess,True)\n",
    "    if outtype > 1:\n",
    "        self.restoreMRF(sess,True)\n",
    "    if outtype > 2:\n",
    "        self.restoreFine(sess,True)\n",
    "    self.initializeRemainingVars(sess)\n"
   ]
  },
  {
   "cell_type": "code",
   "execution_count": null,
   "metadata": {
    "collapsed": true
   },
   "outputs": [],
   "source": [
    "def openMovie(moviename):\n",
    "    cap = cv2.VideoCapture(moviename)\n",
    "    nframes = int(cap.get(cvc.FRAME_COUNT))\n",
    "    return cap,nframes"
   ]
  },
  {
   "cell_type": "code",
   "execution_count": null,
   "metadata": {
    "collapsed": true
   },
   "outputs": [],
   "source": [
    "def createPredImage(predscores,n_classes):\n",
    "    im = np.zeros(predscores.shape[0:2]+(3,))\n",
    "    im[:,:,0] = np.argmax(predscores,2).astype('float32')/(n_classes)*180\n",
    "    im[:,:,1] = (np.max(predscores,2)+1)/2*255\n",
    "    im[:,:,2] = 255.\n",
    "    im = np.clip(im,0,255)\n",
    "    im = im.astype('uint8')\n",
    "    return cv2.cvtColor(im,cv2.COLOR_HSV2RGB) \n",
    "        "
   ]
  },
  {
   "cell_type": "code",
   "execution_count": null,
   "metadata": {
    "collapsed": true
   },
   "outputs": [],
   "source": [
    "def classifyMovie(conf,moviename,outtype,self,sess):\n",
    "    cap,nframes = openMovie(moviename)\n",
    "    predLocs = np.zeros([nframes,conf.n_classes,2,2])\n",
    "    predmaxscores = np.zeros([nframes,conf.n_classes,2])\n",
    "    \n",
    "    if outtype == 3:\n",
    "        if self.conf.useMRF:\n",
    "            predPair = [self.mrfPred,self.finePred]\n",
    "        else:\n",
    "            predPair = [self.basePred,self.finePred]\n",
    "    elif outtype == 2:\n",
    "        predPair = [self.mrfPred,self.basePred]\n",
    "    else:        \n",
    "        predPair = [self.basePred]\n",
    "        \n",
    "    bsize = conf.batch_size\n",
    "    nbatches = int(math.ceil(float(nframes)/bsize))\n",
    "    framein = myutils.readframe(cap,1)\n",
    "    framein = cropImages(framein,conf)\n",
    "    framein = framein[np.newaxis,:,:,0:1]\n",
    "    x0t,x1t,x2t = multiScaleImages(framein, conf.rescale,  conf.scale, conf.l1_cropsz)\n",
    "#     clahe = cv2.createCLAHE(clipLimit=2.0, tileGridSize=(10,10))\n",
    "#     print \"WARNING!!!ATTENTION!!! DOING CONTRAST NORMALIZATION!!!!\"\n",
    "#     print \"WARNING!!!ATTENTION!!! DOING CONTRAST NORMALIZATION!!!!\"\n",
    "\n",
    "    for curl in range(nbatches):\n",
    "        \n",
    "        allf = np.zeros((bsize,)+conf.imsz+(1,))\n",
    "        ndxst = curl*bsize\n",
    "        ndxe = min(nframes,(curl+1)*bsize)\n",
    "        ppe = min(ndxe-ndxst,bsize)\n",
    "        for ii in range(ppe):\n",
    "            framein = myutils.readframe(cap,curl*bsize+ii)\n",
    "\n",
    "            framein = cropImages(framein,conf)\n",
    "#             framein = clahe.apply(framein[:,:,:1])\n",
    "            allf[ii,...] = framein[...,0:1]\n",
    "            \n",
    "        x0,x1,x2 = multiScaleImages(allf, conf.rescale,  conf.scale, conf.l1_cropsz)\n",
    "\n",
    "        self.feed_dict[self.ph['x0']] = x0\n",
    "        self.feed_dict[self.ph['x1']] = x1\n",
    "        self.feed_dict[self.ph['x2']] = x2\n",
    "        pred = sess.run(predPair,self.feed_dict)\n",
    "        if curl == 0:\n",
    "            predscores = np.zeros((nframes,)+pred[0].shape[1:] + (2,))\n",
    "        if outtype == 3:\n",
    "            baseLocs,fineLocs = getFinePredLocs(pred[0],pred[1],conf)\n",
    "            predLocs[ndxst:ndxe,:,0,:] = fineLocs[:ppe,:,:]\n",
    "            predLocs[ndxst:ndxe,:,1,:] = baseLocs[:ppe,:,:]\n",
    "            for ndx in range(conf.n_classes):\n",
    "                predmaxscores[ndxst:ndxe,:,0] = pred[0][:ppe,:,:,ndx].max()\n",
    "                predmaxscores[ndxst:ndxe,:,1] = pred[1][:ppe,:,:,ndx].max()\n",
    "            predscores[curl,:,:,:,0] = pred[0][:ppe,:,:,:]\n",
    "        elif outtype == 2:\n",
    "            baseLocs = getBasePredLocs(pred[0],conf)\n",
    "            predLocs[ndxst:ndxe,:,0,:] = baseLocs[:ppe,:,:]\n",
    "            baseLocs = getBasePredLocs(pred[1],conf)\n",
    "            predLocs[ndxst:ndxe,:,1,:] = baseLocs[:ppe,:,:]\n",
    "            for ndx in range(conf.n_classes):\n",
    "                predmaxscores[ndxst:ndxe,:,0] = pred[0][:ppe,:,:,ndx].max()\n",
    "                predmaxscores[ndxst:ndxe,:,1] = pred[1][:ppe,:,:,ndx].max()\n",
    "            predscores[ndxst:ndxe,:,:,:,0] = pred[0][:ppe,:,:,:]\n",
    "            predscores[ndxst:ndxe,:,:,:,1] = pred[1][:ppe,:,:,:]\n",
    "        elif outtype == 1:\n",
    "            baseLocs = getBasePredLocs(pred[0],conf)\n",
    "            predLocs[ndxst:ndxe,:,0,:] = baseLocs[:ppe,:,:]\n",
    "            for ndx in range(conf.n_classes):\n",
    "                predmaxscores[ndxst:ndxe,:,0] = pred[0][:ppe,:,:,ndx].max()\n",
    "            predscores[ndxst:ndxe,:,:,:,0] = pred[0][:ppe,:,:,:]\n",
    "        sys.stdout.write('.')\n",
    "        if curl%20==19:\n",
    "            sys.stdout.write('\\n')\n",
    "\n",
    "    cap.release()\n",
    "    return predLocs,predscores,predmaxscores"
   ]
  },
  {
   "cell_type": "code",
   "execution_count": null,
   "metadata": {
    "collapsed": true
   },
   "outputs": [],
   "source": [
    "def createPredMovie(conf,predList,moviename,outmovie,outtype):\n",
    "    \n",
    "    predLocs,predscores,predmaxscores = predList\n",
    "#     assert false, 'stop here'\n",
    "    tdir = tempfile.mkdtemp()\n",
    "\n",
    "    cap = cv2.VideoCapture(moviename)\n",
    "    nframes = int(cap.get(cvc.FRAME_COUNT))\n",
    "    \n",
    "    cmap = cm.get_cmap('jet')\n",
    "    rgba = cmap(np.linspace(0,1,conf.n_classes))\n",
    "    \n",
    "    fig = mpl.figure.Figure(figsize = (9,4))\n",
    "    canvas = FigureCanvasAgg(fig)\n",
    "    for curl in range(nframes):\n",
    "        framein = myutils.readframe(cap,curl)\n",
    "        framein = cropImages(framein,conf)\n",
    "\n",
    "        fig.clf()\n",
    "        ax1 = fig.add_subplot(1,2,1)\n",
    "        ax1.imshow(framein[:,:,0], cmap=cm.gray)\n",
    "        ax1.scatter(predLocs[curl,:,0,0],predLocs[curl,:,0,1], #hold=True,\n",
    "                    c=cm.hsv(np.linspace(0,1-1./conf.n_classes,conf.n_classes)),\n",
    "                    s=np.clip(predmaxscores[curl,:,0]*100,20,40),\n",
    "                    linewidths=0,edgecolors='face')\n",
    "        ax1.axis('off')\n",
    "        ax2 = fig.add_subplot(1,2,2)\n",
    "        if outtype == 1:\n",
    "            curpreds = predscores[curl,:,:,:,0]\n",
    "        elif outtype ==2:\n",
    "            curpreds = predscores[curl,:,:,:,0]*2 - 1\n",
    "            \n",
    "        rgbim = createPredImage(curpreds,conf.n_classes)\n",
    "        ax2.imshow(rgbim)\n",
    "        ax2.axis('off')\n",
    "\n",
    "        fname = \"test_{:06d}.png\".format(curl)\n",
    "        \n",
    "        # to printout without X. \n",
    "        # From: http://www.dalkescientific.com/writings/diary/archive/2005/04/23/matplotlib_without_gui.html\n",
    "        # The size * the dpi gives the final image size\n",
    "        #   a4\"x4\" image * 80 dpi ==> 320x320 pixel image\n",
    "        canvas.print_figure(os.path.join(tdir,fname), dpi=160)\n",
    "        \n",
    "        # below is the easy way.\n",
    "#         plt.savefig(os.path.join(tdir,fname))\n",
    "        \n",
    "    tfilestr = os.path.join(tdir,'test_*.png')\n",
    "    mencoder_cmd = \"mencoder mf://\" + tfilestr + \\\n",
    "    \" -frames \" + \"{:d}\".format(nframes) + \" -mf type=png:fps=15 -o \" + \\\n",
    "    outmovie + \" -ovc lavc -lavcopts vcodec=mpeg4:vbitrate=2000000\"\n",
    "    os.system(mencoder_cmd)\n",
    "    cap.release()\n"
   ]
  },
  {
   "cell_type": "code",
   "execution_count": null,
   "metadata": {
    "collapsed": true
   },
   "outputs": [],
   "source": [
    "def createPredMovieNoConf(conf,predList,moviename,outmovie,outtype):\n",
    "    \n",
    "    predLocs,predscores,predmaxscores = predList\n",
    "#     assert false, 'stop here'\n",
    "    tdir = tempfile.mkdtemp()\n",
    "\n",
    "    cap = cv2.VideoCapture(moviename)\n",
    "    nframes = int(cap.get(cvc.FRAME_COUNT))\n",
    "    \n",
    "    cmap = cm.get_cmap('jet')\n",
    "    rgba = cmap(np.linspace(0,1,conf.n_classes))\n",
    "    \n",
    "    fig = mpl.figure.Figure(figsize = (9,4))\n",
    "    canvas = FigureCanvasAgg(fig)\n",
    "    for curl in range(nframes):\n",
    "        framein = myutils.readframe(cap,curl)\n",
    "        framein = cropImages(framein,conf)\n",
    "\n",
    "        fig.clf()\n",
    "        ax1 = fig.add_subplot(1,2,1)\n",
    "        ax1.imshow(framein[:,:,0], cmap=cm.gray)\n",
    "        ax1.scatter(predLocs[curl,:,0,0],predLocs[curl,:,0,1], #hold=True,\n",
    "                    c=cm.hsv(np.linspace(0,1-1./conf.n_classes,conf.n_classes)),\n",
    "                    s=20,linewidths=0,edgecolors='face')\n",
    "        ax1.axis('off')\n",
    "        ax2 = fig.add_subplot(1,2,2)\n",
    "        if outtype == 1:\n",
    "            curpreds = predscores[curl,:,:,:,0]\n",
    "        elif outtype ==2:\n",
    "            curpreds = predscores[curl,:,:,:,0]*2 - 1\n",
    "            \n",
    "        rgbim = createPredImage(curpreds,conf.n_classes)\n",
    "        ax2.imshow(rgbim)\n",
    "        ax2.axis('off')\n",
    "\n",
    "        fname = \"test_{:06d}.png\".format(curl)\n",
    "        \n",
    "        # to printout without X. \n",
    "        # From: http://www.dalkescientific.com/writings/diary/archive/2005/04/23/matplotlib_without_gui.html\n",
    "        # The size * the dpi gives the final image size\n",
    "        #   a4\"x4\" image * 80 dpi ==> 320x320 pixel image\n",
    "        canvas.print_figure(os.path.join(tdir,fname), dpi=80)\n",
    "        \n",
    "        # below is the easy way.\n",
    "#         plt.savefig(os.path.join(tdir,fname))\n",
    "        \n",
    "    tfilestr = os.path.join(tdir,'test_*.png')\n",
    "    mencoder_cmd = \"mencoder mf://\" + tfilestr + \\\n",
    "    \" -frames \" + \"{:d}\".format(nframes) + \" -mf type=png:fps=15 -o \" + \\\n",
    "    outmovie + \" -ovc lavc -lavcopts vcodec=mpeg4:vbitrate=2000000\"\n",
    "    os.system(mencoder_cmd)\n",
    "    cap.release()\n"
   ]
  }
 ],
 "metadata": {
  "kernelspec": {
   "display_name": "Python 2",
   "language": "python",
   "name": "python2"
  },
  "language_info": {
   "codemirror_mode": {
    "name": "ipython",
    "version": 2
   },
   "file_extension": ".py",
   "mimetype": "text/x-python",
   "name": "python",
   "nbconvert_exporter": "python",
   "pygments_lexer": "ipython2",
   "version": "2.7.6"
  }
 },
 "nbformat": 4,
 "nbformat_minor": 0
}
