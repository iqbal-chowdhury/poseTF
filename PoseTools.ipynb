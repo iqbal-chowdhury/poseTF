{
 "cells": [
  {
   "cell_type": "code",
   "execution_count": null,
   "metadata": {
    "collapsed": true
   },
   "outputs": [],
   "source": [
    "import numpy as np\n",
    "import scipy\n",
    "import math,h5py\n",
    "import caffe\n",
    "import pawData\n",
    "import pawconfig as conf\n",
    "from scipy import misc\n",
    "from scipy import ndimage\n",
    "import tensorflow as tf\n",
    "\n",
    "def scalepatches(patch,scale,num,rescale):\n",
    "    sz = patch.shape\n",
    "    assert sz[0]%( (scale**(num-1))*rescale) is 0,\"patch size isn't divisible by scale\"\n",
    "    \n",
    "    patches = []\n",
    "    patches.append(scipy.misc.imresize(patch[:,:,0],1.0/(scale**(num-1))/rescale))\n",
    "    curpatch = patch\n",
    "    for ndx in range(num-1):\n",
    "        sz = curpatch.shape\n",
    "        crop = int((1-1.0/scale)/2*sz[0])\n",
    "#         print(ndx,crop)\n",
    "        \n",
    "        spatch = curpatch[crop:-crop,crop:-crop,:]\n",
    "        curpatch = spatch\n",
    "        sfactor = 1.0/(scale**(num-ndx-2))/rescale\n",
    "        tpatch = scipy.misc.imresize(spatch,sfactor,)\n",
    "        patches.append(tpatch[:,:,0])\n",
    "    return patches\n"
   ]
  },
  {
   "cell_type": "code",
   "execution_count": null,
   "metadata": {
    "collapsed": true
   },
   "outputs": [],
   "source": [
    "def readLMDB(cursor,num,imsz,dataMod):\n",
    "#     imsz = conf.imsz\n",
    "    images = np.zeros((num,1,imsz[0],imsz[1]))\n",
    "    locs = []\n",
    "    datum = caffe.proto.caffe_pb2.Datum()\n",
    "\n",
    "#     print(images.shape)\n",
    "    for ndx in range(num):\n",
    "        if not cursor.next():\n",
    "            cursor.first()\n",
    "#             print('restarting at %d' % ndx)\n",
    "            \n",
    "        value = cursor.value()\n",
    "        key = cursor.key()\n",
    "        datum.ParseFromString(value)\n",
    "        expname,curloc,t = dataMod.decodeID(cursor.key())\n",
    "\n",
    "        curlabel = datum.label\n",
    "        data = caffe.io.datum_to_array(datum)\n",
    "        images[ndx,0,:,:] = data.squeeze()\n",
    "        locs.append(curloc)\n",
    "    return images,locs\n",
    "\n"
   ]
  },
  {
   "cell_type": "code",
   "execution_count": null,
   "metadata": {
    "collapsed": true
   },
   "outputs": [],
   "source": [
    "def blurLabel(imsz,loc,scale,blur_rad):\n",
    "    sz0 = int(math.ceil(float(imsz[0])/scale))\n",
    "    sz1 = int(math.ceil(float(imsz[1])/scale))\n",
    "\n",
    "    label = np.zeros([sz0,sz1])\n",
    "    if not np.isnan(loc[0]):\n",
    "        label[int(loc[0]/scale),int(loc[1]/scale)] = 1\n",
    "        blurL = ndimage.gaussian_filter(label,blur_rad)\n",
    "        blurL = blurL/blurL.max()\n",
    "    else:\n",
    "        blurL = label\n",
    "    return blurL"
   ]
  },
  {
   "cell_type": "code",
   "execution_count": null,
   "metadata": {
    "collapsed": true
   },
   "outputs": [],
   "source": [
    "def scaleImages(img,scale):\n",
    "    sz = img.shape\n",
    "    simg = np.zeros((sz[0],sz[1]/scale,sz[2]/scale,sz[3]))\n",
    "    for ndx in range(sz[0]):\n",
    "        for chn in range(sz[3]):\n",
    "            simg[ndx,:,:,chn] = misc.imresize(img[ndx,:,:,chn],1./scale)\n",
    "    return simg\n",
    "\n",
    "def multiScaleImages(inImg,rescale,scale):\n",
    "    x0_in = scaleImages(inImg,rescale)\n",
    "    x1_in = scaleImages(x0_in,scale)\n",
    "    x2_in = scaleImages(x1_in,scale)\n",
    "    return x0_in,x1_in,x2_in\n"
   ]
  },
  {
   "cell_type": "code",
   "execution_count": null,
   "metadata": {
    "collapsed": true
   },
   "outputs": [],
   "source": [
    "def createLabelImages(locs,imsz,scale,blur_rad):\n",
    "    n_classes = len(locs[0])\n",
    "    sz0 = int(math.ceil(float(imsz[0])/scale))\n",
    "    sz1 = int(math.ceil(float(imsz[1])/scale))\n",
    "\n",
    "    labelims = np.zeros((len(locs),sz0,sz1,n_classes))\n",
    "    for cls in range(n_classes):\n",
    "        for ndx in range(len(locs)):\n",
    "            modlocs = [locs[ndx][cls][1],locs[ndx][cls][0]]\n",
    "            labelims[ndx,:,:,cls] = blurLabel(imsz,modlocs,scale,blur_rad)\n",
    " \n",
    "    labelims = 2.0*(labelims-0.5)\n",
    "    return labelims"
   ]
  },
  {
   "cell_type": "code",
   "execution_count": null,
   "metadata": {
    "collapsed": true
   },
   "outputs": [],
   "source": [
    "def createFineLabelTensor(conf):\n",
    "    tsz = int(conf.fine_sz + 2*6*math.ceil(conf.fine_label_blur_rad))\n",
    "    timg = np.zeros((tsz,tsz))\n",
    "    timg[tsz/2,tsz/2] = 1\n",
    "    blurL = ndimage.gaussian_filter(timg,conf.fine_label_blur_rad)\n",
    "    blurL = blurL/blurL.max()\n",
    "    blurL = 2.0*(blurL-0.5)\n",
    "    return tf.constant(blurL)\n"
   ]
  },
  {
   "cell_type": "code",
   "execution_count": null,
   "metadata": {
    "collapsed": true
   },
   "outputs": [],
   "source": [
    "def extractFineLabelTensor(labelT,sz,dd,fsz):\n",
    "    return tf.slice(labelT,dd+sz/2-fsz/2,[fsz,fsz])"
   ]
  },
  {
   "cell_type": "code",
   "execution_count": null,
   "metadata": {
    "collapsed": true
   },
   "outputs": [],
   "source": [
    "def createFineLabelImages(locs,pred,conf,labelT):\n",
    "    maxlocs = argmax2d(pred)*conf.pool_scale\n",
    "    tsz = int(conf.fine_sz + 2*6*math.ceil(conf.fine_label_blur_rad))\n",
    "    hsz = conf.fine_sz/2\n",
    "    limgs = []\n",
    "    for inum in range(conf.batch_size):\n",
    "        curlimgs = []\n",
    "        for ndx in range(conf.n_classes):\n",
    "            dx = maxlocs[1,inum,ndx]-tf.to_int32(locs[inum,ndx,0]/conf.rescale)\n",
    "            dy = maxlocs[0,inum,ndx]-tf.to_int32(locs[inum,ndx,1]/conf.rescale)\n",
    "            dd = tf.pack([dx,dy])\n",
    "            dd = tf.maximum(tf.to_int32(hsz-tsz/2),tf.minimum(tf.to_int32(tsz/2-hsz-1),dd))\n",
    "            curlimgs.append(extractFineLabelTensor(labelT,tsz,dd,conf.fine_sz))\n",
    "        limgs.append(tf.pack(curlimgs))\n",
    "    return tf.transpose(tf.pack(limgs),[0,2,3,1])\n"
   ]
  },
  {
   "cell_type": "code",
   "execution_count": null,
   "metadata": {
    "collapsed": true
   },
   "outputs": [],
   "source": [
    "def argmax2d(Xin):\n",
    "    \n",
    "    origShape = tf.shape(Xin)\n",
    "    reshape_t = tf.concat(0,[origShape[0:1],[-1],origShape[3:4]])\n",
    "    zz = tf.reshape(Xin,reshape_t)\n",
    "    pp = tf.to_int32(tf.argmax(zz,1))\n",
    "    sz1 = tf.slice(origShape,[2],[1])\n",
    "    cc1 = tf.div(pp,tf.to_int32(sz1))\n",
    "    cc2 = tf.mod(pp,tf.to_int32(sz1))\n",
    "    \n",
    "    return tf.pack([cc1,cc2])"
   ]
  },
  {
   "cell_type": "code",
   "execution_count": null,
   "metadata": {
    "collapsed": true
   },
   "outputs": [],
   "source": [
    "def getBaseError(locs,pred,conf):\n",
    "    locerr = np.zeros(locs.shape)\n",
    "    for ndx in range(pred.shape[0]):\n",
    "        for cls in range(conf.n_classes):\n",
    "            maxndx = np.argmax(pred[ndx,:,:,cls])\n",
    "            predloc = np.unravel_index(maxndx,pred.shape[1:3])\n",
    "            predloc = predloc * conf.pool_scale\n",
    "            locerr[ndx][cls][0]= float(predloc[1])-loc[ndx][cls][0]\n",
    "            locerr[ndx][cls][1]= float(predloc[0])-loc[ndx][cls][1]\n",
    "    return locerr"
   ]
  },
  {
   "cell_type": "code",
   "execution_count": null,
   "metadata": {
    "collapsed": true
   },
   "outputs": [],
   "source": [
    "def getFineError(locs,pred,finepred,conf):\n",
    "    finelocerr = np.zeros([len(locs),conf.n_classes,2])\n",
    "    baselocerr = np.zeros([len(locs),conf.n_classes,2])\n",
    "    for ndx in range(pred.shape[0]):\n",
    "        for cls in range(conf.n_classes):\n",
    "            maxndx = np.argmax(pred[ndx,:,:,cls])\n",
    "            predloc = np.array(np.unravel_index(maxndx,pred.shape[1:3]))\n",
    "            predloc = predloc * conf.pool_scale * conf.rescale\n",
    "            maxndx = np.argmax(finepred[ndx,:,:,cls])\n",
    "            finepredloc = (np.array(np.unravel_index(maxndx,finepred.shape[1:3]))-conf.fine_sz/2)*conf.rescale\n",
    "            baselocerr[ndx,cls,0]= float(predloc[1])-locs[ndx][cls][0]\n",
    "            baselocerr[ndx,cls,1]= float(predloc[0])-locs[ndx][cls][1]\n",
    "            finelocerr[ndx,cls,0]= float(predloc[1]+finepredloc[1])-locs[ndx][cls][0]\n",
    "            finelocerr[ndx,cls,1]= float(predloc[0]+finepredloc[0])-locs[ndx][cls][1]\n",
    "    return baselocerr,finelocerr"
   ]
  },
  {
   "cell_type": "code",
   "execution_count": null,
   "metadata": {
    "collapsed": true
   },
   "outputs": [],
   "source": [
    "def initMRFweights(conf):\n",
    "    psz = conf.mrf_psz\n",
    "    bfilt = np.zeros([psz,psz,conf.n_classes,conf.n_classes])\n",
    "    L = h5py.File(conf.labelfile)\n",
    "    pts = np.array(L['pts'])\n",
    "    v = conf.view\n",
    "    for ndx in range(pts.shape[0]):\n",
    "        for c1 in range(conf.n_classes):\n",
    "            for c2 in range(conf.n_classes):\n",
    "                d12x = pts[ndx,c1,v,0] - pts[ndx,c2,v,0]\n",
    "                d12y = pts[ndx,c1,v,1] - pts[ndx,c2,v,1]\n",
    "                d12x = int( (d12x/conf.rescale)/conf.pool_scale)\n",
    "                d12y = int( (d12y/conf.rescale)/conf.pool_scale)\n",
    "                bfilt[psz/2-d12y,psz/2-d12x,c1,c2] += 1\n",
    "    bfilt = bfilt/pts.shape[0]\n",
    "    return bfilt"
   ]
  }
 ],
 "metadata": {
  "kernelspec": {
   "display_name": "Python 2",
   "language": "python",
   "name": "python2"
  },
  "language_info": {
   "codemirror_mode": {
    "name": "ipython",
    "version": 2
   },
   "file_extension": ".py",
   "mimetype": "text/x-python",
   "name": "python",
   "nbconvert_exporter": "python",
   "pygments_lexer": "ipython2",
   "version": "2.7.6"
  }
 },
 "nbformat": 4,
 "nbformat_minor": 0
}
