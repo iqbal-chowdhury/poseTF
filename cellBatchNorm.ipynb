{
 "cells": [
  {
   "cell_type": "code",
   "execution_count": 1,
   "metadata": {
    "collapsed": false
   },
   "outputs": [
    {
     "name": "stdout",
     "output_type": "stream",
     "text": [
      "beta/ExponentialMovingAverage\n",
      "gamma/ExponentialMovingAverage\n",
      "beta/ExponentialMovingAverage\n",
      "gamma/ExponentialMovingAverage\n"
     ]
    }
   ],
   "source": [
    "import tensorflow as tf\n",
    "\n",
    "beta = tf.Variable(tf.constant(0.0, shape=[3]),\n",
    "    name='beta', trainable=True)\n",
    "gamma = tf.Variable(tf.constant(1.0, shape=[3]),\n",
    "    name='gamma', trainable=True)\n",
    "ema = tf.train.ExponentialMovingAverage(decay=0.9)\n",
    "beta1 = tf.Variable(tf.constant(0.0, shape=[3]),\n",
    "    name='beta1', trainable=True)\n",
    "gamma1 = tf.Variable(tf.constant(1.0, shape=[3]),\n",
    "    name='gamma1', trainable=True)\n",
    "\n",
    "ema_apply_op = ema.apply([beta, gamma])\n",
    "ema_mean, ema_var = ema.average(beta), ema.average(gamma)\n",
    "\n",
    "vv = ema.variables_to_restore()\n",
    "for v in vv:\n",
    "    print v\n",
    "    \n",
    "# ema1 = tf.train.ExponentialMovingAverage(decay=0.999)\n",
    "# ema_apply_op = ema1.apply([beta1, gamma1])\n",
    "# ema_mean1, ema_var1 = ema.average(beta1), ema.average(gamma1)\n",
    "\n",
    "\n",
    "for v in vv:\n",
    "    print v"
   ]
  }
 ],
 "metadata": {
  "kernelspec": {
   "display_name": "Python 2",
   "language": "python",
   "name": "python2"
  },
  "language_info": {
   "codemirror_mode": {
    "name": "ipython",
    "version": 2
   },
   "file_extension": ".py",
   "mimetype": "text/x-python",
   "name": "python",
   "nbconvert_exporter": "python",
   "pygments_lexer": "ipython2",
   "version": "2.7.6"
  }
 },
 "nbformat": 4,
 "nbformat_minor": 0
}
